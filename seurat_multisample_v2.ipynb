{
 "cells": [
  {
   "cell_type": "code",
   "execution_count": 1,
   "id": "626c60d6-91b7-42de-8453-486509238115",
   "metadata": {
    "scrolled": true
   },
   "outputs": [
    {
     "name": "stderr",
     "output_type": "stream",
     "text": [
      "Warning message:\n",
      "“package ‘dplyr’ was built under R version 4.3.2”\n",
      "\n",
      "Attaching package: ‘dplyr’\n",
      "\n",
      "\n",
      "The following objects are masked from ‘package:stats’:\n",
      "\n",
      "    filter, lag\n",
      "\n",
      "\n",
      "The following objects are masked from ‘package:base’:\n",
      "\n",
      "    intersect, setdiff, setequal, union\n",
      "\n",
      "\n",
      "Loading required package: SeuratObject\n",
      "\n",
      "Loading required package: sp\n",
      "\n",
      "\n",
      "Attaching package: ‘SeuratObject’\n",
      "\n",
      "\n",
      "The following objects are masked from ‘package:base’:\n",
      "\n",
      "    intersect, t\n",
      "\n",
      "\n",
      "Warning message:\n",
      "“package ‘patchwork’ was built under R version 4.3.2”\n"
     ]
    }
   ],
   "source": [
    "library(dplyr)\n",
    "library(ggplot2)\n",
    "library(Seurat)\n",
    "library(patchwork)\n",
    "library(processx)\n",
    "options(warn = -1)\n",
    "options(repr.plot.width = 20, repr.plot.height = 10, repr.plot.res = 100)"
   ]
  },
  {
   "cell_type": "code",
   "execution_count": null,
   "id": "446ed64e-b69f-4124-88e9-c196b3af1038",
   "metadata": {
    "scrolled": true
   },
   "outputs": [],
   "source": [
    "dataset_paths = c('2018838/PRE-01','2018838/PRE-02','2018838/POST-03','2018838/POST-05',\n",
    "           '2018839/PRE-04','2018839/PRE-05','2018839/POST-06','2018839/POST-11')\n",
    "\n",
    "dataset_paths <- lapply(dataset_paths, function(x){paste('/tmp/work/Visium/', x, sep = '')})  #constructs the data set pathsseurat_objects <- lapply(dataset_paths, function(x) {Load10X_Spatial(unlist(x))})   #creates a list of seurat objects\n",
    "\n",
    "seurat_objects <- lapply(dataset_paths, function(x) {Load10X_Spatial(unlist(x))})   #creates a list of seurat objects\n",
    "sample_names <- lapply(dataset_paths, function(x){tail(unlist(strsplit(unlist(x), split = \"/\")),n=1)})   #gets the sample name for metadata assignment\n",
    "seurat_objects <- lapply(seurat_objects, function(x){subset(x,subset = nCount_Spatial > 2000)})\n",
    "\n",
    "apply_sample_names <- function(x,y){\n",
    "    x[[]]$sample = y\n",
    "    return(x)\n",
    "}\n",
    "seurat_objects <- mapply(apply_sample_names, seurat_objects, sample_names)  #add sample name information to each seurat object\n",
    "seurat_objects <- merge(x = seurat_objects[[1]], y = seurat_objects[-1])  #merges object across layers\n",
    "seurat_objects <- PercentageFeatureSet(seurat_objects, pattern=\"^MT-\", col.name=\"percent.mt\")\n",
    "\n",
    "saveRDS(seurat_objects,'seurat_objects.rds')\n",
    "\n",
    "system2(\"Rscript\", args = \"/tmp/work/Visium/BRCA_2024/brca_scripts/sctransform.r\")\n",
    "\n",
    "seurat_objects = readRDS('seurat_objects_v2.rds')\n",
    "seurat_objects <- RunPCA(seurat_objects, assay=\"SCT\")"
   ]
  },
  {
   "cell_type": "code",
   "execution_count": null,
   "id": "88c88133-0c85-4540-9988-b5c9ce07da1b",
   "metadata": {
    "scrolled": true
   },
   "outputs": [],
   "source": [
    "seurat_objects <- IntegrateLayers(\n",
    "  object = seurat_objects, method = HarmonyIntegration,\n",
    "  orig.reduction = \"pca\", new.reduction = \"harmony\",assay = \"SCT\",\n",
    "  verbose = FALSE)\n",
    "\n",
    "seurat_objects <- FindNeighbors(seurat_objects, reduction = \"harmony\", dims = 1:30)\n",
    "seurat_objects <- FindClusters(seurat_objects, resolution = 2, cluster.name = \"harmony_clusters\")\n",
    "\n",
    "# \n",
    "seurat_objects <- RunUMAP(seurat_objects, reduction = \"harmony\", dims = 1:30, reduction.name = \"umap.harmony\")"
   ]
  },
  {
   "cell_type": "code",
   "execution_count": null,
   "id": "834a6eaf-69d8-47ce-b450-59c9c08c4df3",
   "metadata": {},
   "outputs": [],
   "source": [
    "DimPlot(seurat_objects,reduction = \"umap.harmony\",group.by = c(\"sample\", \"harmony_clusters\"),combine = TRUE)"
   ]
  },
  {
   "cell_type": "code",
   "execution_count": null,
   "id": "cb171961-5ef5-482e-ac6b-48138d8b3cef",
   "metadata": {},
   "outputs": [],
   "source": [
    "test <- subset(seurat_objects, subset = sample == 'PRE-01')\n",
    "SpatialDimPlot(test, label = TRUE, label.size = 3)\n",
    "SpatialDimPlot(test, cells.highlight = CellsByIdentities(object = test, idents = seq(0, 28)), facet.highlight = TRUE, ncol = 8)"
   ]
  },
  {
   "cell_type": "code",
   "execution_count": null,
   "id": "847acce0-4573-42c9-a34b-9157d0787c96",
   "metadata": {},
   "outputs": [],
   "source": [
    "test <- subset(seurat_objects, subset = sample == 'POST-05')\n",
    "SpatialDimPlot(test, label = TRUE, label.size = 3)\n",
    "SpatialDimPlot(test, cells.highlight = CellsByIdentities(object = test, idents = seq(0, 28)), facet.highlight = TRUE, ncol = 8)"
   ]
  },
  {
   "cell_type": "code",
   "execution_count": null,
   "id": "23595f2c-e557-48c9-ba9e-c050845c2ea5",
   "metadata": {},
   "outputs": [],
   "source": []
  },
  {
   "cell_type": "code",
   "execution_count": null,
   "id": "a75b8244-5bb9-4567-8f2b-8d36676cf710",
   "metadata": {},
   "outputs": [],
   "source": []
  }
 ],
 "metadata": {
  "kernelspec": {
   "display_name": "R",
   "language": "R",
   "name": "ir"
  },
  "language_info": {
   "codemirror_mode": "r",
   "file_extension": ".r",
   "mimetype": "text/x-r-source",
   "name": "R",
   "pygments_lexer": "r",
   "version": "4.3.1"
  }
 },
 "nbformat": 4,
 "nbformat_minor": 5
}
