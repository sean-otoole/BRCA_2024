{
 "cells": [
  {
   "cell_type": "code",
   "execution_count": null,
   "id": "5d6b3442-0109-4533-b27b-8e9470620ddb",
   "metadata": {
    "editable": true,
    "slideshow": {
     "slide_type": ""
    },
    "tags": []
   },
   "outputs": [
    {
     "name": "stderr",
     "output_type": "stream",
     "text": [
      "Rasterizing points since number of points exceeds 100,000.\n",
      "To disable this behavior set `raster=FALSE`\n",
      "\n"
     ]
    }
   ],
   "source": [
    "library(Seurat)\n",
    "library(dplyr)\n",
    "\n",
    "# reference data set\n",
    "\n",
    "ref_data = readRDS('/tmp/work/Visium/zenodo.11468564/scRNA_data/panB_scRNA_processed_data.rds')\n",
    "my36colors <-c('#E5D2DD', '#53A85F', '#F1BB72', '#F3B1A0', '#D6E7A3', '#57C3F3', '#476D87',\n",
    "               '#E95C59', '#E59CC4', '#AB3282', '#23452F', '#BD956A', '#8C549C', '#585658',\n",
    "               '#9FA3A8', '#E0D4CA', '#5F3D69', '#C5DEBA', '#58A4C3', '#E4C755', '#F7F398',\n",
    "               '#AA9A59', '#E63863', '#E39A35', '#C1E6F3', '#6778AE', '#91D0BE', '#B53E2B',\n",
    "               '#712820', '#DCC1DD', '#CCE0F5',  '#CCC9E6', '#625D9E', '#68A180', '#3A6963',\n",
    "               '#968175'\n",
    ")\n",
    "\n",
    "#figure 11b\n",
    "DimPlot(ref_data,group.by = \"celltype\",label=T, cols = my36colors) + NoLegend()\n",
    "\n",
    "#SCtransform on reference data\n",
    "ref_data <- SCTransform(ref_data, ncells = 3000, verbose = FALSE) %>%\n",
    "    RunPCA(verbose = FALSE) %>%\n",
    "    RunUMAP(dims = 1:30)\n",
    "\n",
    "saveRDS('b_cell_ref_data.rds')\n",
    "\n",
    "#after SCTransform\n",
    "DimPlot(ref_data,group.by = \"celltype\",label=T, cols = my36colors) + NoLegend()\n",
    "\n",
    "#visium data\n",
    "visium_samples <- readRDS('/tmp/work/Visium/BRCA_2024/objects/seurat_objects.rds')"
   ]
  },
  {
   "cell_type": "code",
   "execution_count": 1,
   "id": "9572801b-d85b-4e69-b847-be6084a1cee9",
   "metadata": {},
   "outputs": [
    {
     "name": "stderr",
     "output_type": "stream",
     "text": [
      "Loading required package: SeuratObject\n",
      "\n",
      "Loading required package: sp\n",
      "\n",
      "\n",
      "Attaching package: ‘SeuratObject’\n",
      "\n",
      "\n",
      "The following objects are masked from ‘package:base’:\n",
      "\n",
      "    intersect, t\n",
      "\n",
      "\n",
      "Loading required package: Seurat\n",
      "\n"
     ]
    },
    {
     "data": {
      "text/plain": [
       "An object of class Seurat \n",
       "36140 features across 32625 samples within 2 assays \n",
       "Active assay: SCT (18055 features, 3000 variable features)\n",
       " 3 layers present: counts, data, scale.data\n",
       " 1 other assay present: Spatial\n",
       " 8 spatial fields of view present: slice1 slice1.2 slice1.3 slice1.4 slice1.5 slice1.6 slice1.7 slice1.8"
      ]
     },
     "metadata": {},
     "output_type": "display_data"
    }
   ],
   "source": [
    "visium_samples <- readRDS('/tmp/work/Visium/BRCA_2024/objects/seurat_objects.rds')\n",
    "visium_samples"
   ]
  },
  {
   "cell_type": "code",
   "execution_count": 3,
   "id": "00ac2626-148d-4339-9748-acc7dead7a3f",
   "metadata": {},
   "outputs": [
    {
     "data": {
      "text/plain": [
       "An object of class Seurat \n",
       "27557 features across 474718 samples within 1 assay \n",
       "Active assay: RNA (27557 features, 1819 variable features)\n",
       " 3 layers present: counts, data, scale.data\n",
       " 3 dimensional reductions calculated: pca, harmony, umap"
      ]
     },
     "metadata": {},
     "output_type": "display_data"
    }
   ],
   "source": [
    "anchors <- FindTransferAnchors(reference = ref_data, query = visium_samples, normalization.method = \"SCT\")\n",
    "predictions.assay <- TransferData(anchorset = anchors, refdata = ref_data$celltype, prediction.assay = TRUE,\n",
    "    weight.reduction = visium_samples[[\"pca\"]], dims = 1:30)\n",
    "visium_samples[[\"predictions\"]] <- predictions.assay"
   ]
  },
  {
   "cell_type": "code",
   "execution_count": null,
   "id": "7e792ba0-d52e-48ce-bd4d-429b751b59bd",
   "metadata": {},
   "outputs": [],
   "source": [
    "library(Seurat)\n",
    "library(future)\n",
    "setwd(\"/tmp/work/Visium/BRCA_2024/objects\")\n",
    "options(future.globals.maxSize = 50 * 1024^3)  #50 GiB\n",
    "plan(\"multicore\", workers = 20)\n",
    "ref_data = readRDS('/tmp/work/Visium/zenodo.11468564/scRNA_data/panB_scRNA_processed_data.rds')\n",
    "ref_data <- SCTransform(ref_data, ncells = 3000, verbose = FALSE) %>%\n",
    "    RunPCA(verbose = FALSE) %>%\n",
    "    RunUMAP(dims = 1:30)\n",
    "saveRDS('b_cell_ref_data.rds')\n"
   ]
  }
 ],
 "metadata": {
  "kernelspec": {
   "display_name": "R",
   "language": "R",
   "name": "ir"
  },
  "language_info": {
   "codemirror_mode": "r",
   "file_extension": ".r",
   "mimetype": "text/x-r-source",
   "name": "R",
   "pygments_lexer": "r",
   "version": "4.3.1"
  }
 },
 "nbformat": 4,
 "nbformat_minor": 5
}
