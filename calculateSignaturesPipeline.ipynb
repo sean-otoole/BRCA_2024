{
 "cells": [
  {
   "cell_type": "code",
   "execution_count": 2,
   "id": "15f66633-5aa6-4359-8afd-0ba4f99ee026",
   "metadata": {},
   "outputs": [
    {
     "name": "stderr",
     "output_type": "stream",
     "text": [
      "/opt/conda/lib/python3.10/site-packages/pandas/core/computation/expressions.py:21: UserWarning: Pandas requires version '2.8.4' or newer of 'numexpr' (version '2.8.3' currently installed).\n",
      "  from pandas.core.computation.check import NUMEXPR_INSTALLED\n"
     ]
    }
   ],
   "source": [
    "import os\n",
    "import sys\n",
    "\n",
    "os.getcwd()\n",
    "sys.path.append( os.path.join(os.getcwd(), 'brca_scripts'))\n",
    "\n",
    "from getRSigs import getRSigs\n",
    "\n",
    "signatures_dict, singatures_groups_list = getRSigs()"
   ]
  },
  {
   "cell_type": "code",
   "execution_count": 7,
   "id": "aba9c947-c4fb-4532-a1c1-f2a21c00d843",
   "metadata": {},
   "outputs": [
    {
     "name": "stdout",
     "output_type": "stream",
     "text": [
      "['CCL18', 'CCL19', 'CCL2', 'CCL21', 'CCL3', 'CCL4', 'CCL5', 'CCL8', 'CXCL10', 'CXCL11', 'CXCL11_2', 'CXCL13', 'CXCL9']\n",
      "['BCL6', 'CD86', 'CXCR4', 'LAMP3', 'SELL', 'CCR7', 'CXCL13', 'CCL21', 'CCL19']\n",
      "['ANXA2', 'BRAF', 'CD14', 'CD86', 'CTSB', 'CTSS', 'CXCL2', 'FCGR2B', 'FCGR2B', 'HCST', 'HLA-DMA', 'HLA-DMB', 'HLA-DPB1', 'HLA-DRA', 'HLA-G', 'ITGAM', 'LILRB4', 'MARCO', 'MKI67', 'MRC1', 'S100A8', 'S100A9', 'SYK', 'SYK', 'TYROBP']\n",
      "['ANXA2', 'BRAF', 'CD14', 'CD86', 'CTSB', 'CTSS', 'CXCL2', 'FCGR2B', 'FCGR2B', 'HCST', 'HLA-DMA', 'HLA-DMB', 'HLA-DPB1', 'HLA-DRA', 'HLA-G', 'ITGAM', 'LILRB4', 'MARCO', 'MKI67', 'MRC1', 'S100A8', 'S100A9', 'SYK', 'SYK', 'TYROBP']\n",
      "['ANXA2', 'BRAF', 'CD14', 'CD86', 'CTSB', 'CTSS', 'CXCL2', 'FCGR2B', 'FCGR2B', 'HCST', 'HLA-DMA', 'HLA-DMB', 'HLA-DPB1', 'HLA-DRA', 'HLA-G', 'ITGAM', 'LILRB4', 'MARCO', 'MKI67', 'MRC1', 'S100A8', 'S100A9', 'SYK', 'SYK', 'TYROBP']\n",
      "['ANXA2', 'BRAF', 'CD14', 'CD86', 'CTSB', 'CTSS', 'CXCL2', 'FCGR2B', 'FCGR2B', 'HCST', 'HLA-DMA', 'HLA-DMB', 'HLA-DPB1', 'HLA-DRA', 'HLA-G', 'ITGAM', 'LILRB4', 'MARCO', 'MKI67', 'MRC1', 'S100A8', 'S100A9', 'SYK', 'SYK', 'TYROBP']\n",
      "['ANXA2', 'BRAF', 'CD14', 'CD86', 'CTSB', 'CTSS', 'CXCL2', 'FCGR2B', 'FCGR2B', 'HCST', 'HLA-DMA', 'HLA-DMB', 'HLA-DPB1', 'HLA-DRA', 'HLA-G', 'ITGAM', 'LILRB4', 'MARCO', 'MKI67', 'MRC1', 'S100A8', 'S100A9', 'SYK', 'SYK', 'TYROBP']\n",
      "['TPSB2', 'TPSAB1', 'CPA3', 'HPGDS', 'CLU', 'LTC4S', 'CD9', 'MS4A2', 'CD69', 'RGS1', 'GATA2', 'LAPTM4A', 'CD63', 'ALOX5AP', 'VWA5A', 'UBB', 'LMNA', 'KIT', 'IL1RL1', 'RPS4X', 'ANXA1', 'SLC18A2']\n",
      "['SEC61B', 'PLAC8', 'RPS3A', 'SPCS1', 'ALOX5AP', 'RPS4X', 'C12ORF75', 'SERPINF1', 'TCF4', 'PLD4', 'IRF8', 'CCDC50', 'UGCG', 'SPIB', 'ITM2C', 'RPL10A', 'PPIB']\n",
      "['CD74', 'HLA-DPB1', 'HLA-DRA', 'HLA-DQA1', 'HLA-DQB1', 'HLA-DPA1', 'HLA-DRB1']\n",
      "['LSP1', 'ACTG1', 'CD74', 'TMSB4X', 'HLA-DQA1', 'PPA1', 'RGS1', 'GSTP1', 'HLA-DPB1', 'BIRC3']\n",
      "['S100A9', 'S100A8', 'S100A12', 'LYZ', 'VCAN', 'MNDA']\n",
      "['LST1', 'FCGR3A', 'RPS19', 'IFITM3', 'IFITM2', 'AIF1', 'MS4A7']\n",
      "['IL1B', 'SRGN', 'EREG', 'SOD2', 'PLAUR', 'G0S2', 'TNFAIP3', 'CXCL8', 'CXCL2', 'NFKBIA', 'IER3', 'BCL2A1']\n",
      "['CXCL2', 'CXCL8', 'CCL3', 'IL1B', 'CCL4', 'IER3', 'CREM', 'NFKBIA', 'CCL3L3', 'EREG', 'TNFAIP3', 'SOD2', 'ATF3', 'GPR183']\n",
      "['C1QA', 'IL1B', 'HLA-DRA', 'C1QB', 'C1QC', 'HLA-DPB1', 'HLA-DQA1', 'HLA-DQA2', 'CCL3L3', 'CCL3', 'HLA-DRB1', 'GPR183', 'HLA-DPA1', 'IER3', 'NFKBIA', 'CXCL2', 'HLA-DQB1', 'TNFAIP3', 'CD74']\n",
      "['C1QC', 'C1QB', 'C1QA', 'RGS1', 'LGMN', 'APOC1', 'APOE', 'HLA-DQA1', 'CD74', 'GPR183', 'HLA-DRA', 'GPNMB', 'ATF3', 'HLA-DQB1', 'HLA-DQA2', 'CCL3']\n",
      "['SPP1', 'C15ORF48', 'CXCL8', 'OLR1', 'CCL3', 'G0S2', 'CXCL2', 'APOC1', 'GPNMB']\n",
      "['CD274', 'PDCD1LG2', 'LGALS9', 'ADORA2A', 'ADORA2B', 'ARG1', 'ICOSL', 'CD80']\n",
      "['CD86', 'OX-40L', '4-1BBL', 'PVR', 'IL1N', 'ALCAM', 'TNF']\n",
      "['FCRL5', 'CD300LF', 'CCR1', 'PTPN22', 'CD9', 'CSF2RB', 'S100A6', 'PLAC8', 'CCND2', 'C130026I21RIK', 'ZBTB20', 'RILPL2', 'APOE', 'SP140', 'SLC7A7', 'RPLP0', 'PDIA4', 'CCDC28B', 'MZB1']\n",
      "['GZMA', 'PRF1']\n",
      "['CD3D', 'IDO1', 'CIITA', 'CD3E', 'CCL5', 'GZMK', 'CD2', 'HLA-DRA', 'CXCL13', 'IL2RG', 'NKG7', 'HLA-E', 'EXCR6', 'LAG3', 'TAGAP', 'CXCL10', 'STAT1', 'GZMB']\n",
      "['ITGAX', 'TBX21', 'CD1C', 'FGR', 'FCRL5', 'TFEC', 'ZEB2', 'ZBTB32', 'CD86', 'AICDA', 'EBI3', 'CXCR3', 'SIGLEC6', 'TLR7', 'PRDM1', 'CXCR5', 'CR2', 'TRAF5']\n"
     ]
    }
   ],
   "source": [
    "for name in singatures_groups_list:\n",
    "    print(signatures_dict[name])"
   ]
  },
  {
   "cell_type": "code",
   "execution_count": null,
   "id": "1026b53e-131b-43e0-8280-61a094b60ca6",
   "metadata": {},
   "outputs": [],
   "source": []
  }
 ],
 "metadata": {
  "kernelspec": {
   "display_name": "Python 3 (ipykernel)",
   "language": "python",
   "name": "python3"
  },
  "language_info": {
   "codemirror_mode": {
    "name": "ipython",
    "version": 3
   },
   "file_extension": ".py",
   "mimetype": "text/x-python",
   "name": "python",
   "nbconvert_exporter": "python",
   "pygments_lexer": "ipython3",
   "version": "3.10.10"
  }
 },
 "nbformat": 4,
 "nbformat_minor": 5
}
