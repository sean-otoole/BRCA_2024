{
 "cells": [
  {
   "cell_type": "code",
   "execution_count": 2,
   "id": "15f66633-5aa6-4359-8afd-0ba4f99ee026",
   "metadata": {},
   "outputs": [],
   "source": [
    "import os\n",
    "import sys\n",
    "\n",
    "os.getcwd()\n",
    "sys.path.append( os.path.join(os.getcwd(), 'brca_scripts'))\n",
    "\n",
    "from getRSigs import getRSigs\n",
    "\n",
    "signatures_dict, singatures_groups_list = getRSigs()"
   ]
  },
  {
   "cell_type": "code",
   "execution_count": 1,
   "id": "aba9c947-c4fb-4532-a1c1-f2a21c00d843",
   "metadata": {},
   "outputs": [
    {
     "name": "stdout",
     "output_type": "stream",
     "text": [
      "test\n"
     ]
    }
   ],
   "source": [
    "print('test')"
   ]
  },
  {
   "cell_type": "code",
   "execution_count": null,
   "id": "1026b53e-131b-43e0-8280-61a094b60ca6",
   "metadata": {},
   "outputs": [],
   "source": []
  }
 ],
 "metadata": {
  "kernelspec": {
   "display_name": "Python 3 (ipykernel)",
   "language": "python",
   "name": "python3"
  },
  "language_info": {
   "codemirror_mode": {
    "name": "ipython",
    "version": 3
   },
   "file_extension": ".py",
   "mimetype": "text/x-python",
   "name": "python",
   "nbconvert_exporter": "python",
   "pygments_lexer": "ipython3",
   "version": "3.10.10"
  }
 },
 "nbformat": 4,
 "nbformat_minor": 5
}
