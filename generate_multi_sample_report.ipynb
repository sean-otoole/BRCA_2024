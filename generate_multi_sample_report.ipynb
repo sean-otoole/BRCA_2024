{
 "cells": [
  {
   "cell_type": "code",
   "execution_count": 1,
   "id": "c5ded77c-1861-4bc8-8994-0fce495cd09a",
   "metadata": {},
   "outputs": [
    {
     "name": "stderr",
     "output_type": "stream",
     "text": [
      "/opt/conda/lib/python3.10/site-packages/pandas/core/computation/expressions.py:21: UserWarning: Pandas requires version '2.8.4' or newer of 'numexpr' (version '2.8.3' currently installed).\n",
      "  from pandas.core.computation.check import NUMEXPR_INSTALLED\n",
      "/opt/conda/lib/python3.10/site-packages/dask/dataframe/_pyarrow_compat.py:17: FutureWarning: Minimal version of pyarrow will soon be increased to 14.0.1. You are using 11.0.0. Please consider upgrading.\n",
      "  warnings.warn(\n",
      "/opt/conda/lib/python3.10/site-packages/scvi/__init__.py:31: DeprecationWarning: scvi is deprecated, please uninstall scvi via `pip uninstall scvi` and install the new scvi-tools package at github.com/YosefLab/scvi-tools\n",
      "  warnings.warn(deprecation_msg, DeprecationWarning)\n",
      "/opt/conda/lib/python3.10/site-packages/scanpy/_settings.py:450: DeprecationWarning: `set_matplotlib_formats` is deprecated since IPython 7.23, directly use `matplotlib_inline.backend_inline.set_matplotlib_formats()`\n",
      "  IPython.display.set_matplotlib_formats(*ipython_format)\n",
      "/opt/conda/lib/python3.10/site-packages/scanpy/_settings.py:450: DeprecationWarning: `set_matplotlib_formats` is deprecated since IPython 7.23, directly use `matplotlib_inline.backend_inline.set_matplotlib_formats()`\n",
      "  IPython.display.set_matplotlib_formats(*ipython_format)\n",
      "📜 Retrieving model list from server https://celltypist.cog.sanger.ac.uk/models/models.json\n",
      "📚 Total models in list: 50\n",
      "📂 Storing models in /root/.celltypist/data/models\n",
      "💾 Downloading model [1/50]: Immune_All_Low.pkl\n",
      "💾 Downloading model [2/50]: Immune_All_High.pkl\n",
      "💾 Downloading model [3/50]: Adult_COVID19_PBMC.pkl\n",
      "💾 Downloading model [4/50]: Adult_CynomolgusMacaque_Hippocampus.pkl\n",
      "💾 Downloading model [5/50]: Adult_Human_PancreaticIslet.pkl\n",
      "💾 Downloading model [6/50]: Adult_Human_Skin.pkl\n",
      "💾 Downloading model [7/50]: Adult_Mouse_Gut.pkl\n",
      "💾 Downloading model [8/50]: Adult_Mouse_OlfactoryBulb.pkl\n",
      "💾 Downloading model [9/50]: Adult_Pig_Hippocampus.pkl\n",
      "💾 Downloading model [10/50]: Adult_RhesusMacaque_Hippocampus.pkl\n",
      "💾 Downloading model [11/50]: Autopsy_COVID19_Lung.pkl\n",
      "💾 Downloading model [12/50]: COVID19_HumanChallenge_Blood.pkl\n",
      "💾 Downloading model [13/50]: COVID19_Immune_Landscape.pkl\n",
      "💾 Downloading model [14/50]: Cells_Adult_Breast.pkl\n",
      "💾 Downloading model [15/50]: Cells_Fetal_Lung.pkl\n",
      "💾 Downloading model [16/50]: Cells_Human_Tonsil.pkl\n",
      "💾 Downloading model [17/50]: Cells_Intestinal_Tract.pkl\n",
      "💾 Downloading model [18/50]: Cells_Lung_Airway.pkl\n",
      "💾 Downloading model [19/50]: Developing_Human_Brain.pkl\n",
      "💾 Downloading model [20/50]: Developing_Human_Gonads.pkl\n",
      "💾 Downloading model [21/50]: Developing_Human_Hippocampus.pkl\n",
      "💾 Downloading model [22/50]: Developing_Human_Organs.pkl\n",
      "💾 Downloading model [23/50]: Developing_Human_Thymus.pkl\n",
      "💾 Downloading model [24/50]: Developing_Mouse_Brain.pkl\n",
      "💾 Downloading model [25/50]: Developing_Mouse_Hippocampus.pkl\n",
      "💾 Downloading model [26/50]: Fetal_Human_AdrenalGlands.pkl\n",
      "💾 Downloading model [27/50]: Fetal_Human_Pancreas.pkl\n",
      "💾 Downloading model [28/50]: Fetal_Human_Pituitary.pkl\n",
      "💾 Downloading model [29/50]: Fetal_Human_Retina.pkl\n",
      "💾 Downloading model [30/50]: Fetal_Human_Skin.pkl\n",
      "💾 Downloading model [31/50]: Healthy_Adult_Heart.pkl\n",
      "💾 Downloading model [32/50]: Healthy_COVID19_PBMC.pkl\n",
      "💾 Downloading model [33/50]: Healthy_Human_Liver.pkl\n",
      "💾 Downloading model [34/50]: Healthy_Mouse_Liver.pkl\n",
      "💾 Downloading model [35/50]: Human_AdultAged_Hippocampus.pkl\n",
      "💾 Downloading model [36/50]: Human_Colorectal_Cancer.pkl\n",
      "💾 Downloading model [37/50]: Human_Developmental_Retina.pkl\n",
      "💾 Downloading model [38/50]: Human_Embryonic_YolkSac.pkl\n",
      "💾 Downloading model [39/50]: Human_IPF_Lung.pkl\n",
      "💾 Downloading model [40/50]: Human_Longitudinal_Hippocampus.pkl\n",
      "💾 Downloading model [41/50]: Human_Lung_Atlas.pkl\n",
      "💾 Downloading model [42/50]: Human_PF_Lung.pkl\n",
      "💾 Downloading model [43/50]: Human_Placenta_Decidua.pkl\n",
      "💾 Downloading model [44/50]: Lethal_COVID19_Lung.pkl\n",
      "💾 Downloading model [45/50]: Mouse_Dentate_Gyrus.pkl\n",
      "💾 Downloading model [46/50]: Mouse_Isocortex_Hippocampus.pkl\n",
      "💾 Downloading model [47/50]: Mouse_Postnatal_DentateGyrus.pkl\n",
      "💾 Downloading model [48/50]: Mouse_Whole_Brain.pkl\n",
      "💾 Downloading model [49/50]: Nuclei_Lung_Airway.pkl\n",
      "💾 Downloading model [50/50]: Pan_Fetal_Human.pkl\n"
     ]
    }
   ],
   "source": [
    "import warnings\n",
    "warnings.filterwarnings(\"ignore\", category=DeprecationWarning)\n",
    "import os\n",
    "import numpy as np\n",
    "import pandas as pd\n",
    "import anndata as ad \n",
    "import squidpy as sq\n",
    "import scanpy as sc\n",
    "import matplotlib.pyplot as plt\n",
    "import seaborn as sb\n",
    "import scvi \n",
    "import torch #pytorch\n",
    "import runpy\n",
    "from datetime import datetime\n",
    "import celltypist\n",
    "from celltypist import models\n",
    "\n",
    "from os import sys\n",
    "sys.path.append('/tmp/work/Visium/sean/brca_scripts')\n",
    "from visiumPipeline import processVisium\n",
    "from applySignatures import cosineSignatures\n",
    "\n",
    "\n",
    "sc.set_figure_params(figsize=(4,4))\n",
    "sc.set_figure_params(facecolor=\"white\", figsize=(8, 8))\n",
    "sc.settings.verbosity = 3\n",
    "\n",
    "#gettting model for celltypist\n",
    "models.download_models(force_update = True)\n",
    "model = models.Model.load(model = 'Immune_All_High.pkl')\n",
    "\n",
    "#define sample poths, sample names and emptry dictionary\n",
    "\n",
    "samples = ['2018838/PRE-01','2018838/PRE-02','2018838/POST-03','2018838/POST-05',\n",
    "           '2018839/PRE-04','2018839/PRE-05','2018839/POST-06','2018839/POST-11']\n",
    "\n",
    "sample_names = [os.path.basename(sample) for sample in samples]\n",
    "visium_samples = variables = {name: None for name in sample_names} #variable names associated with emptry values in dictionary for storing data later"
   ]
  },
  {
   "cell_type": "code",
   "execution_count": 2,
   "id": "5aebfd45-d287-4ba3-bdea-1034a7971470",
   "metadata": {},
   "outputs": [
    {
     "name": "stderr",
     "output_type": "stream",
     "text": [
      "/opt/conda/lib/python3.10/site-packages/tqdm/auto.py:21: TqdmWarning: IProgress not found. Please update jupyter and ipywidgets. See https://ipywidgets.readthedocs.io/en/stable/user_install.html\n",
      "  from .autonotebook import tqdm as notebook_tqdm\n"
     ]
    },
    {
     "name": "stdout",
     "output_type": "stream",
     "text": [
      "normalizing counts per cell\n",
      "    finished (0:00:01)\n",
      "If you pass `n_top_genes`, all cutoffs are ignored.\n",
      "extracting highly variable genes\n",
      "    finished (0:00:02)\n",
      "--> added\n",
      "    'highly_variable', boolean vector (adata.var)\n",
      "    'means', float vector (adata.var)\n",
      "    'dispersions', float vector (adata.var)\n",
      "    'dispersions_norm', float vector (adata.var)\n",
      "computing PCA\n",
      "    on highly variable genes\n",
      "    with n_comps=50\n",
      "    finished (0:00:01)\n",
      "computing neighbors\n",
      "    using 'X_pca' with n_pcs = 50\n"
     ]
    },
    {
     "name": "stderr",
     "output_type": "stream",
     "text": [
      "2024-08-13 17:18:14.860679: I tensorflow/core/platform/cpu_feature_guard.cc:193] This TensorFlow binary is optimized with oneAPI Deep Neural Network Library (oneDNN) to use the following CPU instructions in performance-critical operations:  SSE4.1 SSE4.2 AVX AVX2 FMA\n",
      "To enable them in other operations, rebuild TensorFlow with the appropriate compiler flags.\n"
     ]
    },
    {
     "name": "stdout",
     "output_type": "stream",
     "text": [
      "    finished: added to `.uns['neighbors']`\n",
      "    `.obsp['distances']`, distances for each pair of neighbors\n",
      "    `.obsp['connectivities']`, weighted adjacency matrix (0:00:24)\n",
      "computing UMAP\n",
      "    finished: added\n",
      "    'X_umap', UMAP coordinates (adata.obsm) (0:01:03)\n",
      "normalizing counts per cell\n",
      "    finished (0:00:00)\n",
      "\n",
      "\n",
      "Execution time: 0:04:23.819774\n"
     ]
    }
   ],
   "source": [
    "# construct the pseduobulk reference\n",
    "start_time = datetime.now()\n",
    "result = runpy.run_path('/tmp/work/Visium/sean/brca_scripts/acquirePseudoBulkRef.py')\n",
    "end_time = datetime.now()\n",
    "execution_time = end_time - start_time\n",
    "print('\\n')\n",
    "print(f\"Execution time: {execution_time}\")\n"
   ]
  },
  {
   "cell_type": "code",
   "execution_count": 3,
   "id": "f57d974e-1526-4a52-b1b1-13cffcca132d",
   "metadata": {},
   "outputs": [
    {
     "name": "stdout",
     "output_type": "stream",
     "text": [
      "\n",
      "\n",
      "Beginng to process PRE-01\n",
      "\n",
      "\n",
      "reading /tmp/work/Visium/2018838/PRE-01/filtered_feature_bc_matrix.h5\n",
      " (0:00:01)\n",
      "WARNING: Path to the high-resolution tissue image `/tmp/work/Visium/sean/2018838/PRE-01/spatial` does not exist\n",
      "filtered out 60 cells that have less than 1000 counts\n",
      "filtered out 45 genes that are detected in less than 5 cells\n",
      "normalizing counts per cell\n",
      "    finished (0:00:00)\n",
      "If you pass `n_top_genes`, all cutoffs are ignored.\n",
      "extracting highly variable genes\n",
      "    finished (0:00:00)\n",
      "--> added\n",
      "    'highly_variable', boolean vector (adata.var)\n",
      "    'means', float vector (adata.var)\n",
      "    'dispersions', float vector (adata.var)\n",
      "    'dispersions_norm', float vector (adata.var)\n",
      "computing PCA\n",
      "    on highly variable genes\n",
      "    with n_comps=50\n",
      "    finished (0:00:00)\n",
      "computing neighbors\n",
      "    using 'X_pca' with n_pcs = 50\n",
      "    finished: added to `.uns['neighbors']`\n",
      "    `.obsp['distances']`, distances for each pair of neighbors\n",
      "    `.obsp['connectivities']`, weighted adjacency matrix (0:00:01)\n",
      "computing UMAP\n",
      "    finished: added\n",
      "    'X_umap', UMAP coordinates (adata.obsm) (0:00:04)\n",
      "running Leiden clustering\n",
      "    finished: found 14 clusters and added\n",
      "    'clusters', the cluster labels (adata.obs, categorical) (0:00:00)\n"
     ]
    },
    {
     "name": "stderr",
     "output_type": "stream",
     "text": [
      "🔬 Input data has 4668 cells and 18040 genes\n",
      "🔗 Matching reference genes in the model\n",
      "🧬 5047 features used for prediction\n",
      "⚖️ Scaling input data\n",
      "🖋️ Predicting labels\n",
      "✅ Prediction done!\n",
      "👀 Detected a neighborhood graph in the input object, will run over-clustering on the basis of it\n",
      "⛓️ Over-clustering input data with resolution set to 5\n"
     ]
    },
    {
     "name": "stdout",
     "output_type": "stream",
     "text": [
      "running Leiden clustering\n",
      "    finished: found 53 clusters and added\n",
      "    'over_clustering', the cluster labels (adata.obs, categorical) (0:00:00)\n"
     ]
    },
    {
     "name": "stderr",
     "output_type": "stream",
     "text": [
      "🗳️ Majority voting the predictions\n",
      "✅ Majority voting done!\n"
     ]
    },
    {
     "name": "stdout",
     "output_type": "stream",
     "text": [
      "\n",
      "\n",
      "Beginng to process PRE-02\n",
      "\n",
      "\n",
      "reading /tmp/work/Visium/2018838/PRE-02/filtered_feature_bc_matrix.h5\n",
      " (0:00:01)\n",
      "WARNING: Path to the high-resolution tissue image `/tmp/work/Visium/sean/2018838/PRE-02/spatial` does not exist\n",
      "filtered out 98 cells that have less than 1000 counts\n",
      "filtered out 58 genes that are detected in less than 5 cells\n",
      "normalizing counts per cell\n",
      "    finished (0:00:00)\n",
      "If you pass `n_top_genes`, all cutoffs are ignored.\n",
      "extracting highly variable genes\n",
      "    finished (0:00:00)\n",
      "--> added\n",
      "    'highly_variable', boolean vector (adata.var)\n",
      "    'means', float vector (adata.var)\n",
      "    'dispersions', float vector (adata.var)\n",
      "    'dispersions_norm', float vector (adata.var)\n",
      "computing PCA\n",
      "    on highly variable genes\n",
      "    with n_comps=50\n",
      "    finished (0:00:00)\n",
      "computing neighbors\n",
      "    using 'X_pca' with n_pcs = 50\n",
      "    finished: added to `.uns['neighbors']`\n",
      "    `.obsp['distances']`, distances for each pair of neighbors\n",
      "    `.obsp['connectivities']`, weighted adjacency matrix (0:00:00)\n",
      "computing UMAP\n",
      "    finished: added\n",
      "    'X_umap', UMAP coordinates (adata.obsm) (0:00:04)\n",
      "running Leiden clustering\n",
      "    finished: found 14 clusters and added\n",
      "    'clusters', the cluster labels (adata.obs, categorical) (0:00:00)\n"
     ]
    },
    {
     "name": "stderr",
     "output_type": "stream",
     "text": [
      "🔬 Input data has 4894 cells and 18027 genes\n",
      "🔗 Matching reference genes in the model\n",
      "🧬 5047 features used for prediction\n",
      "⚖️ Scaling input data\n",
      "🖋️ Predicting labels\n",
      "✅ Prediction done!\n",
      "👀 Detected a neighborhood graph in the input object, will run over-clustering on the basis of it\n",
      "⛓️ Over-clustering input data with resolution set to 5\n"
     ]
    },
    {
     "name": "stdout",
     "output_type": "stream",
     "text": [
      "running Leiden clustering\n",
      "    finished: found 60 clusters and added\n",
      "    'over_clustering', the cluster labels (adata.obs, categorical) (0:00:00)\n"
     ]
    },
    {
     "name": "stderr",
     "output_type": "stream",
     "text": [
      "🗳️ Majority voting the predictions\n",
      "✅ Majority voting done!\n"
     ]
    },
    {
     "name": "stdout",
     "output_type": "stream",
     "text": [
      "\n",
      "\n",
      "Beginng to process POST-03\n",
      "\n",
      "\n",
      "reading /tmp/work/Visium/2018838/POST-03/filtered_feature_bc_matrix.h5\n",
      " (0:00:00)\n",
      "WARNING: Path to the high-resolution tissue image `/tmp/work/Visium/sean/2018838/POST-03/spatial` does not exist\n",
      "filtered out 1453 cells that have less than 1000 counts\n",
      "filtered out 56 genes that are detected in less than 5 cells\n",
      "normalizing counts per cell\n",
      "    finished (0:00:00)\n",
      "If you pass `n_top_genes`, all cutoffs are ignored.\n",
      "extracting highly variable genes\n",
      "    finished (0:00:00)\n",
      "--> added\n",
      "    'highly_variable', boolean vector (adata.var)\n",
      "    'means', float vector (adata.var)\n",
      "    'dispersions', float vector (adata.var)\n",
      "    'dispersions_norm', float vector (adata.var)\n",
      "computing PCA\n",
      "    on highly variable genes\n",
      "    with n_comps=50\n",
      "    finished (0:00:00)\n",
      "computing neighbors\n",
      "    using 'X_pca' with n_pcs = 50\n",
      "    finished: added to `.uns['neighbors']`\n",
      "    `.obsp['distances']`, distances for each pair of neighbors\n",
      "    `.obsp['connectivities']`, weighted adjacency matrix (0:00:00)\n",
      "computing UMAP\n",
      "    finished: added\n",
      "    'X_umap', UMAP coordinates (adata.obsm) (0:00:03)\n",
      "running Leiden clustering\n",
      "    finished: found 9 clusters and added\n",
      "    'clusters', the cluster labels (adata.obs, categorical) (0:00:00)\n"
     ]
    },
    {
     "name": "stderr",
     "output_type": "stream",
     "text": [
      "🔬 Input data has 3539 cells and 18029 genes\n",
      "🔗 Matching reference genes in the model\n",
      "🧬 5047 features used for prediction\n",
      "⚖️ Scaling input data\n",
      "🖋️ Predicting labels\n",
      "✅ Prediction done!\n",
      "👀 Detected a neighborhood graph in the input object, will run over-clustering on the basis of it\n",
      "⛓️ Over-clustering input data with resolution set to 5\n"
     ]
    },
    {
     "name": "stdout",
     "output_type": "stream",
     "text": [
      "running Leiden clustering\n",
      "    finished: found 58 clusters and added\n",
      "    'over_clustering', the cluster labels (adata.obs, categorical) (0:00:00)\n"
     ]
    },
    {
     "name": "stderr",
     "output_type": "stream",
     "text": [
      "🗳️ Majority voting the predictions\n",
      "✅ Majority voting done!\n"
     ]
    },
    {
     "name": "stdout",
     "output_type": "stream",
     "text": [
      "\n",
      "\n",
      "Beginng to process POST-05\n",
      "\n",
      "\n",
      "reading /tmp/work/Visium/2018838/POST-05/filtered_feature_bc_matrix.h5\n",
      " (0:00:00)\n",
      "WARNING: Path to the high-resolution tissue image `/tmp/work/Visium/sean/2018838/POST-05/spatial` does not exist\n",
      "filtered out 79 cells that have less than 1000 counts\n",
      "filtered out 53 genes that are detected in less than 5 cells\n",
      "normalizing counts per cell\n",
      "    finished (0:00:00)\n",
      "If you pass `n_top_genes`, all cutoffs are ignored.\n",
      "extracting highly variable genes\n",
      "    finished (0:00:00)\n",
      "--> added\n",
      "    'highly_variable', boolean vector (adata.var)\n",
      "    'means', float vector (adata.var)\n",
      "    'dispersions', float vector (adata.var)\n",
      "    'dispersions_norm', float vector (adata.var)\n",
      "computing PCA\n",
      "    on highly variable genes\n",
      "    with n_comps=50\n",
      "    finished (0:00:00)\n",
      "computing neighbors\n",
      "    using 'X_pca' with n_pcs = 50\n",
      "    finished: added to `.uns['neighbors']`\n",
      "    `.obsp['distances']`, distances for each pair of neighbors\n",
      "    `.obsp['connectivities']`, weighted adjacency matrix (0:00:00)\n",
      "computing UMAP\n",
      "    finished: added\n",
      "    'X_umap', UMAP coordinates (adata.obsm) (0:00:04)\n",
      "running Leiden clustering\n",
      "    finished: found 12 clusters and added\n",
      "    'clusters', the cluster labels (adata.obs, categorical) (0:00:00)\n"
     ]
    },
    {
     "name": "stderr",
     "output_type": "stream",
     "text": [
      "🔬 Input data has 4644 cells and 18032 genes\n",
      "🔗 Matching reference genes in the model\n",
      "🧬 5045 features used for prediction\n",
      "⚖️ Scaling input data\n",
      "🖋️ Predicting labels\n",
      "✅ Prediction done!\n",
      "👀 Detected a neighborhood graph in the input object, will run over-clustering on the basis of it\n",
      "⛓️ Over-clustering input data with resolution set to 5\n"
     ]
    },
    {
     "name": "stdout",
     "output_type": "stream",
     "text": [
      "running Leiden clustering\n",
      "    finished: found 53 clusters and added\n",
      "    'over_clustering', the cluster labels (adata.obs, categorical) (0:00:00)\n"
     ]
    },
    {
     "name": "stderr",
     "output_type": "stream",
     "text": [
      "🗳️ Majority voting the predictions\n",
      "✅ Majority voting done!\n"
     ]
    },
    {
     "name": "stdout",
     "output_type": "stream",
     "text": [
      "\n",
      "\n",
      "Beginng to process PRE-04\n",
      "\n",
      "\n",
      "reading /tmp/work/Visium/2018839/PRE-04/filtered_feature_bc_matrix.h5\n",
      " (0:00:01)\n",
      "WARNING: Path to the high-resolution tissue image `/tmp/work/Visium/sean/2018839/PRE-04/spatial` does not exist\n",
      "filtered out 33 cells that have less than 1000 counts\n",
      "filtered out 58 genes that are detected in less than 5 cells\n",
      "normalizing counts per cell\n",
      "    finished (0:00:00)\n",
      "If you pass `n_top_genes`, all cutoffs are ignored.\n",
      "extracting highly variable genes\n",
      "    finished (0:00:00)\n",
      "--> added\n",
      "    'highly_variable', boolean vector (adata.var)\n",
      "    'means', float vector (adata.var)\n",
      "    'dispersions', float vector (adata.var)\n",
      "    'dispersions_norm', float vector (adata.var)\n",
      "computing PCA\n",
      "    on highly variable genes\n",
      "    with n_comps=50\n",
      "    finished (0:00:00)\n",
      "computing neighbors\n",
      "    using 'X_pca' with n_pcs = 50\n",
      "    finished: added to `.uns['neighbors']`\n",
      "    `.obsp['distances']`, distances for each pair of neighbors\n",
      "    `.obsp['connectivities']`, weighted adjacency matrix (0:00:00)\n",
      "computing UMAP\n",
      "    finished: added\n",
      "    'X_umap', UMAP coordinates (adata.obsm) (0:00:04)\n",
      "running Leiden clustering\n",
      "    finished: found 19 clusters and added\n",
      "    'clusters', the cluster labels (adata.obs, categorical) (0:00:00)\n"
     ]
    },
    {
     "name": "stderr",
     "output_type": "stream",
     "text": [
      "🔬 Input data has 4749 cells and 18027 genes\n",
      "🔗 Matching reference genes in the model\n",
      "🧬 5048 features used for prediction\n",
      "⚖️ Scaling input data\n",
      "🖋️ Predicting labels\n",
      "✅ Prediction done!\n",
      "👀 Detected a neighborhood graph in the input object, will run over-clustering on the basis of it\n",
      "⛓️ Over-clustering input data with resolution set to 5\n"
     ]
    },
    {
     "name": "stdout",
     "output_type": "stream",
     "text": [
      "running Leiden clustering\n",
      "    finished: found 59 clusters and added\n",
      "    'over_clustering', the cluster labels (adata.obs, categorical) (0:00:00)\n"
     ]
    },
    {
     "name": "stderr",
     "output_type": "stream",
     "text": [
      "🗳️ Majority voting the predictions\n",
      "✅ Majority voting done!\n"
     ]
    },
    {
     "name": "stdout",
     "output_type": "stream",
     "text": [
      "\n",
      "\n",
      "Beginng to process PRE-05\n",
      "\n",
      "\n",
      "reading /tmp/work/Visium/2018839/PRE-05/filtered_feature_bc_matrix.h5\n",
      " (0:00:01)\n",
      "WARNING: Path to the high-resolution tissue image `/tmp/work/Visium/sean/2018839/PRE-05/spatial` does not exist\n",
      "filtered out 87 cells that have less than 1000 counts\n",
      "filtered out 56 genes that are detected in less than 5 cells\n",
      "normalizing counts per cell\n",
      "    finished (0:00:00)\n",
      "If you pass `n_top_genes`, all cutoffs are ignored.\n",
      "extracting highly variable genes\n",
      "    finished (0:00:00)\n",
      "--> added\n",
      "    'highly_variable', boolean vector (adata.var)\n",
      "    'means', float vector (adata.var)\n",
      "    'dispersions', float vector (adata.var)\n",
      "    'dispersions_norm', float vector (adata.var)\n",
      "computing PCA\n",
      "    on highly variable genes\n",
      "    with n_comps=50\n",
      "    finished (0:00:00)\n",
      "computing neighbors\n",
      "    using 'X_pca' with n_pcs = 50\n",
      "    finished: added to `.uns['neighbors']`\n",
      "    `.obsp['distances']`, distances for each pair of neighbors\n",
      "    `.obsp['connectivities']`, weighted adjacency matrix (0:00:00)\n",
      "computing UMAP\n",
      "    finished: added\n",
      "    'X_umap', UMAP coordinates (adata.obsm) (0:00:04)\n",
      "running Leiden clustering\n",
      "    finished: found 14 clusters and added\n",
      "    'clusters', the cluster labels (adata.obs, categorical) (0:00:00)\n"
     ]
    },
    {
     "name": "stderr",
     "output_type": "stream",
     "text": [
      "🔬 Input data has 4777 cells and 18029 genes\n",
      "🔗 Matching reference genes in the model\n",
      "🧬 5048 features used for prediction\n",
      "⚖️ Scaling input data\n",
      "🖋️ Predicting labels\n",
      "✅ Prediction done!\n",
      "👀 Detected a neighborhood graph in the input object, will run over-clustering on the basis of it\n",
      "⛓️ Over-clustering input data with resolution set to 5\n"
     ]
    },
    {
     "name": "stdout",
     "output_type": "stream",
     "text": [
      "running Leiden clustering\n",
      "    finished: found 53 clusters and added\n",
      "    'over_clustering', the cluster labels (adata.obs, categorical) (0:00:00)\n"
     ]
    },
    {
     "name": "stderr",
     "output_type": "stream",
     "text": [
      "🗳️ Majority voting the predictions\n",
      "✅ Majority voting done!\n"
     ]
    },
    {
     "name": "stdout",
     "output_type": "stream",
     "text": [
      "\n",
      "\n",
      "Beginng to process POST-06\n",
      "\n",
      "\n",
      "reading /tmp/work/Visium/2018839/POST-06/filtered_feature_bc_matrix.h5\n",
      " (0:00:01)\n",
      "WARNING: Path to the high-resolution tissue image `/tmp/work/Visium/sean/2018839/POST-06/spatial` does not exist\n",
      "filtered out 15 cells that have less than 1000 counts\n",
      "filtered out 46 genes that are detected in less than 5 cells\n",
      "normalizing counts per cell\n",
      "    finished (0:00:00)\n",
      "If you pass `n_top_genes`, all cutoffs are ignored.\n",
      "extracting highly variable genes\n",
      "    finished (0:00:00)\n",
      "--> added\n",
      "    'highly_variable', boolean vector (adata.var)\n",
      "    'means', float vector (adata.var)\n",
      "    'dispersions', float vector (adata.var)\n",
      "    'dispersions_norm', float vector (adata.var)\n",
      "computing PCA\n",
      "    on highly variable genes\n",
      "    with n_comps=50\n",
      "    finished (0:00:00)\n",
      "computing neighbors\n",
      "    using 'X_pca' with n_pcs = 50\n",
      "    finished: added to `.uns['neighbors']`\n",
      "    `.obsp['distances']`, distances for each pair of neighbors\n",
      "    `.obsp['connectivities']`, weighted adjacency matrix (0:00:00)\n",
      "computing UMAP\n",
      "    finished: added\n",
      "    'X_umap', UMAP coordinates (adata.obsm) (0:00:04)\n",
      "running Leiden clustering\n",
      "    finished: found 13 clusters and added\n",
      "    'clusters', the cluster labels (adata.obs, categorical) (0:00:00)\n"
     ]
    },
    {
     "name": "stderr",
     "output_type": "stream",
     "text": [
      "🔬 Input data has 4701 cells and 18039 genes\n",
      "🔗 Matching reference genes in the model\n",
      "🧬 5044 features used for prediction\n",
      "⚖️ Scaling input data\n",
      "🖋️ Predicting labels\n",
      "✅ Prediction done!\n",
      "👀 Detected a neighborhood graph in the input object, will run over-clustering on the basis of it\n",
      "⛓️ Over-clustering input data with resolution set to 5\n"
     ]
    },
    {
     "name": "stdout",
     "output_type": "stream",
     "text": [
      "running Leiden clustering\n",
      "    finished: found 59 clusters and added\n",
      "    'over_clustering', the cluster labels (adata.obs, categorical) (0:00:00)\n"
     ]
    },
    {
     "name": "stderr",
     "output_type": "stream",
     "text": [
      "🗳️ Majority voting the predictions\n",
      "✅ Majority voting done!\n"
     ]
    },
    {
     "name": "stdout",
     "output_type": "stream",
     "text": [
      "\n",
      "\n",
      "Beginng to process POST-11\n",
      "\n",
      "\n",
      "reading /tmp/work/Visium/2018839/POST-11/filtered_feature_bc_matrix.h5\n",
      " (0:00:00)\n",
      "WARNING: Path to the high-resolution tissue image `/tmp/work/Visium/sean/2018839/POST-11/spatial` does not exist\n",
      "filtered out 1500 cells that have less than 1000 counts\n",
      "filtered out 72 genes that are detected in less than 5 cells\n",
      "normalizing counts per cell\n",
      "    finished (0:00:00)\n",
      "If you pass `n_top_genes`, all cutoffs are ignored.\n",
      "extracting highly variable genes\n",
      "    finished (0:00:00)\n",
      "--> added\n",
      "    'highly_variable', boolean vector (adata.var)\n",
      "    'means', float vector (adata.var)\n",
      "    'dispersions', float vector (adata.var)\n",
      "    'dispersions_norm', float vector (adata.var)\n",
      "computing PCA\n",
      "    on highly variable genes\n",
      "    with n_comps=50\n",
      "    finished (0:00:00)\n",
      "computing neighbors\n",
      "    using 'X_pca' with n_pcs = 50\n",
      "    finished: added to `.uns['neighbors']`\n",
      "    `.obsp['distances']`, distances for each pair of neighbors\n",
      "    `.obsp['connectivities']`, weighted adjacency matrix (0:00:00)\n",
      "computing UMAP\n",
      "    finished: added\n",
      "    'X_umap', UMAP coordinates (adata.obsm) (0:00:03)\n",
      "running Leiden clustering\n",
      "    finished: found 11 clusters and added\n",
      "    'clusters', the cluster labels (adata.obs, categorical) (0:00:00)\n"
     ]
    },
    {
     "name": "stderr",
     "output_type": "stream",
     "text": [
      "🔬 Input data has 3137 cells and 18013 genes\n",
      "🔗 Matching reference genes in the model\n",
      "🧬 5045 features used for prediction\n",
      "⚖️ Scaling input data\n",
      "🖋️ Predicting labels\n",
      "✅ Prediction done!\n",
      "👀 Detected a neighborhood graph in the input object, will run over-clustering on the basis of it\n",
      "⛓️ Over-clustering input data with resolution set to 5\n"
     ]
    },
    {
     "name": "stdout",
     "output_type": "stream",
     "text": [
      "running Leiden clustering\n",
      "    finished: found 62 clusters and added\n",
      "    'over_clustering', the cluster labels (adata.obs, categorical) (0:00:00)\n"
     ]
    },
    {
     "name": "stderr",
     "output_type": "stream",
     "text": [
      "🗳️ Majority voting the predictions\n",
      "✅ Majority voting done!\n"
     ]
    },
    {
     "name": "stdout",
     "output_type": "stream",
     "text": [
      "\n",
      "\n",
      "Execution time: 0:01:18.879965\n"
     ]
    }
   ],
   "source": [
    "#process each of the samples\n",
    "\n",
    "start_time = datetime.now()\n",
    "\n",
    "for i in range(len(samples)):\n",
    "    print('\\n')\n",
    "    print('Beginng to process '+sample_names[i])\n",
    "    print('\\n')\n",
    "    visium_samples[sample_names[i]] = processVisium(samples[i],model)    \n",
    "    \n",
    "end_time = datetime.now()\n",
    "execution_time = end_time - start_time\n",
    "print('\\n')\n",
    "print(f\"Execution time: {execution_time}\")"
   ]
  },
  {
   "cell_type": "code",
   "execution_count": 4,
   "id": "64762050-3adf-4a25-bb06-9fa3b085063e",
   "metadata": {},
   "outputs": [
    {
     "name": "stdout",
     "output_type": "stream",
     "text": [
      "\n",
      "\n",
      "Now applying cosine signature to PRE-01\n",
      "\n",
      "\n",
      "Valid columns: 905\n",
      "Missing columns: 95\n",
      "\n",
      "\n",
      "Now applying cosine signature to PRE-02\n",
      "\n",
      "\n",
      "Valid columns: 935\n",
      "Missing columns: 65\n",
      "\n",
      "\n",
      "Now applying cosine signature to POST-03\n",
      "\n",
      "\n",
      "Valid columns: 904\n",
      "Missing columns: 96\n",
      "\n",
      "\n",
      "Now applying cosine signature to POST-05\n",
      "\n",
      "\n",
      "Valid columns: 898\n",
      "Missing columns: 102\n",
      "\n",
      "\n",
      "Now applying cosine signature to PRE-04\n",
      "\n",
      "\n",
      "Valid columns: 902\n",
      "Missing columns: 98\n",
      "\n",
      "\n",
      "Now applying cosine signature to PRE-05\n",
      "\n",
      "\n",
      "Valid columns: 926\n",
      "Missing columns: 74\n",
      "\n",
      "\n",
      "Now applying cosine signature to POST-06\n",
      "\n",
      "\n",
      "Valid columns: 895\n",
      "Missing columns: 105\n",
      "\n",
      "\n",
      "Now applying cosine signature to POST-11\n",
      "\n",
      "\n",
      "Valid columns: 902\n",
      "Missing columns: 98\n",
      "\n",
      "\n",
      "Execution time: 0:00:22.599274\n"
     ]
    }
   ],
   "source": [
    "# apply signature values to each of the samples\n",
    "\n",
    "start_time = datetime.now()\n",
    "\n",
    "pb_df = pd.read_pickle('wu_2021_pseudobulk.pkl')\n",
    "\n",
    "for i in range(len(sample_names)):\n",
    "    print('\\n')\n",
    "    print('Now applying cosine signature to '+sample_names[i])\n",
    "    print('\\n')\n",
    "    visium_samples[sample_names[i]] = cosineSignatures(visium_samples[sample_names[i]],pb_df)    \n",
    "    \n",
    "end_time = datetime.now()\n",
    "execution_time = end_time - start_time\n",
    "print('\\n')\n",
    "print(f\"Execution time: {execution_time}\")"
   ]
  },
  {
   "cell_type": "code",
   "execution_count": 26,
   "id": "bb4b8f2a-e73b-4250-9ca7-2ec21f758819",
   "metadata": {
    "scrolled": true
   },
   "outputs": [],
   "source": [
    "import matplotlib.pyplot as plt\n",
    "from matplotlib.backends.backend_pdf import PdfPages\n",
    "import scanpy as sc\n",
    "import squidpy as sq\n",
    "import warnings\n",
    "\n",
    "cos_metrics =  ['B-cells_cos_sim', 'CAFs_cos_sim', 'Cancer Epithelial_cos_sim', 'Endothelial_cos_sim', 'Myeloid_cos_sim', 'Normal Epithelial_cos_sim', 'PVL_cos_sim', 'Plasmablasts_cos_sim', 'T-cells_cos_sim']\n",
    "\n",
    "# Define sample names and split into pre and post\n",
    "sample_names = ['PRE-01', 'PRE-02', 'POST-03', 'POST-05', 'PRE-04', 'PRE-05', 'POST-06', 'POST-11']\n",
    "pre_samples = [s for s in sample_names if s.startswith('PRE-')]\n",
    "post_samples = [s for s in sample_names if s.startswith('POST-')]\n",
    "\n",
    "warnings.filterwarnings(\"ignore\", category=UserWarning, message=\".*MatplotlibDeprecationWarning.*\")\n",
    "warnings.filterwarnings(\"ignore\", category=DeprecationWarning)\n",
    "\n",
    "# Define figure directory and ensure it exists\n",
    "figure_dir = os.path.join(os.getcwd(), 'figures')\n",
    "os.makedirs(figure_dir, exist_ok=True)  # Create directory if it doesn't exist\n",
    "\n",
    "for metric in cos_metrics:\n",
    "    pdf_path = os.path.join(figure_dir, f'{metric}.pdf')\n",
    "    pdf_pages = PdfPages(pdf_path)\n",
    "    \n",
    "    vmin = 0.2\n",
    "    vmax = 0.6\n",
    "    current_cmap = 'viridis'\n",
    "    \n",
    "    column_labels = ['Pre-Menopausal', 'Post-Menopausal']\n",
    "    \n",
    "    for i in range(4):\n",
    "        # Ensure all categories are present on axes for celltypist majority voting\n",
    "        full_categories = ['B cells', 'Endothelial cells', 'Epithelial cells', 'Fibroblasts', 'Macrophages', 'Plasma cells']\n",
    "        visium_samples[pre_samples[i]].uns.pop('majority_voting_colors', None)\n",
    "        visium_samples[post_samples[i]].uns.pop('majority_voting_colors', None)\n",
    "        visium_samples[pre_samples[i]].obs['majority_voting'] = visium_samples[pre_samples[i]].obs['majority_voting'].cat.set_categories(full_categories)\n",
    "        visium_samples[post_samples[i]].obs['majority_voting'] = visium_samples[post_samples[i]].obs['majority_voting'].cat.set_categories(full_categories)\n",
    "    \n",
    "        fig, axes = plt.subplots(3, 2, figsize=(12, 12))  # Create a grid of subplots\n",
    "\n",
    "        #Plot the images on their own\n",
    "\n",
    "        sq.pl.spatial_scatter(visium_samples[pre_samples[i]],ax=axes[0, 0])\n",
    "        axes[0, 0].set_xlabel('')\n",
    "        axes[0, 0].set_xlabel('')\n",
    "        sq.pl.spatial_scatter(visium_samples[post_samples[i]],ax=axes[0, 1])\n",
    "        axes[0, 1].set_xlabel('')\n",
    "        axes[0, 1].set_xlabel('')\n",
    "\n",
    "    \n",
    "        # Plot each spatial scatter\n",
    "        sq.pl.spatial_scatter(visium_samples[pre_samples[i]], color=\"majority_voting\", alpha=1.0, ax=axes[1, 0],legend_loc='none')\n",
    "        sq.pl.spatial_scatter(visium_samples[post_samples[i]], color=\"majority_voting\", alpha=1.0, ax=axes[1, 1])\n",
    "        axes[1, 1].set_ylabel('')\n",
    "        \n",
    "        # sq.pl.spatial_scatter(visium_samples[pre_samples[i]], color=metric, alpha=1.0, ax=axes[1, 0], cmap=current_cmap, colorbar = False)\n",
    "        # sq.pl.spatial_scatter(visium_samples[post_samples[i]], color=metric, alpha=1.0, ax=axes[1, 1], cmap=current_cmap, colorbar = False)\n",
    "\n",
    "        sq.pl.spatial_scatter(visium_samples[pre_samples[i]], color=metric, alpha=1.0, ax=axes[2, 0], vmin=vmin, vmax=vmax, cmap=current_cmap, colorbar = False)\n",
    "        sq.pl.spatial_scatter(visium_samples[post_samples[i]], color=metric, alpha=1.0, ax=axes[2, 1], vmin=vmin, vmax=vmax, cmap=current_cmap)\n",
    "        axes[2, 1].set_ylabel('')\n",
    "    \n",
    "        # Set column labels using fig.text\n",
    "        fig.text(0.27, 0.94, column_labels[0], ha='center', fontsize=16, weight='bold')\n",
    "        fig.text(0.66, 0.94, column_labels[1], ha='center', fontsize=16, weight='bold')\n",
    "    \n",
    "        # Adjust layout to fit labels and minimize space\n",
    "        plt.subplots_adjust(top=0.6)  # Adjust top margin to fit column labels\n",
    "        plt.tight_layout(rect=[0, 0, 1, 0.94])  # Adjust layout to fit content within the figure\n",
    "    \n",
    "        pdf_pages.savefig(fig)  # Save the figure to the PDF\n",
    "        #plt.show()  # Display the figure in the notebook\n",
    "        plt.close(fig)  # Close the figure to free memory\n",
    "    \n",
    "    pdf_pages.close()"
   ]
  },
  {
   "cell_type": "code",
   "execution_count": null,
   "id": "aff81554-2c5c-4921-9260-4def3e31c1a6",
   "metadata": {},
   "outputs": [],
   "source": []
  }
 ],
 "metadata": {
  "kernelspec": {
   "display_name": "Python 3 (ipykernel)",
   "language": "python",
   "name": "python3"
  },
  "language_info": {
   "codemirror_mode": {
    "name": "ipython",
    "version": 3
   },
   "file_extension": ".py",
   "mimetype": "text/x-python",
   "name": "python",
   "nbconvert_exporter": "python",
   "pygments_lexer": "ipython3",
   "version": "3.10.10"
  }
 },
 "nbformat": 4,
 "nbformat_minor": 5
}
