{
 "cells": [
  {
   "cell_type": "code",
   "execution_count": 59,
   "id": "c20b4860-38e9-4599-b06c-68acc687836d",
   "metadata": {},
   "outputs": [
    {
     "ename": "AttributeError",
     "evalue": "module 'rpy2.robjects.pandas2ri' has no attribute 'ri2py'",
     "output_type": "error",
     "traceback": [
      "\u001b[0;31m---------------------------------------------------------------------------\u001b[0m",
      "\u001b[0;31mAttributeError\u001b[0m                            Traceback (most recent call last)",
      "Cell \u001b[0;32mIn[59], line 11\u001b[0m\n\u001b[1;32m      9\u001b[0m readRDS \u001b[38;5;241m=\u001b[39m robjects\u001b[38;5;241m.\u001b[39mr[\u001b[38;5;124m'\u001b[39m\u001b[38;5;124mreadRDS\u001b[39m\u001b[38;5;124m'\u001b[39m]\n\u001b[1;32m     10\u001b[0m df \u001b[38;5;241m=\u001b[39m readRDS(rds_path)\n\u001b[0;32m---> 11\u001b[0m df \u001b[38;5;241m=\u001b[39m \u001b[43mpandas2ri\u001b[49m\u001b[38;5;241;43m.\u001b[39;49m\u001b[43mri2py\u001b[49m(df)\n",
      "\u001b[0;31mAttributeError\u001b[0m: module 'rpy2.robjects.pandas2ri' has no attribute 'ri2py'"
     ]
    }
   ],
   "source": [
    "# import os\n",
    "# from rpy2.robjects import pandas2ri, conversion\n",
    "# import rpy2.robjects as robjects\n",
    "# import pandas as pd\n",
    "\n",
    "# pandas2ri.activate()\n",
    "\n",
    "# rds_path = os.getcwd()+'/gene_signatures/all_signature_list_symbol.Rds'\n",
    "# readRDS = robjects.r['readRDS']\n",
    "# df = readRDS(rds_path)\n",
    "# df = pandas2ri.ri2py(df)"
   ]
  },
  {
   "cell_type": "code",
   "execution_count": 5,
   "id": "5831ef2c-b5ec-47e9-ab22-545d69aeed26",
   "metadata": {},
   "outputs": [
    {
     "ename": "AttributeError",
     "evalue": "module 'rpy2.robjects.pandas2ri' has no attribute 'ri2py'",
     "output_type": "error",
     "traceback": [
      "\u001b[0;31m---------------------------------------------------------------------------\u001b[0m",
      "\u001b[0;31mAttributeError\u001b[0m                            Traceback (most recent call last)",
      "Cell \u001b[0;32mIn[5], line 4\u001b[0m\n\u001b[1;32m      2\u001b[0m readRDS \u001b[38;5;241m=\u001b[39m robjects\u001b[38;5;241m.\u001b[39mr[\u001b[38;5;124m'\u001b[39m\u001b[38;5;124mreadRDS\u001b[39m\u001b[38;5;124m'\u001b[39m]\n\u001b[1;32m      3\u001b[0m df \u001b[38;5;241m=\u001b[39m readRDS(rds_path)\n\u001b[0;32m----> 4\u001b[0m df \u001b[38;5;241m=\u001b[39m \u001b[43mpandas2ri\u001b[49m\u001b[38;5;241;43m.\u001b[39;49m\u001b[43mri2py\u001b[49m(df)\n\u001b[1;32m      5\u001b[0m \u001b[38;5;66;03m# do something with the dataframe\u001b[39;00m\n",
      "\u001b[0;31mAttributeError\u001b[0m: module 'rpy2.robjects.pandas2ri' has no attribute 'ri2py'"
     ]
    }
   ],
   "source": [
    "# rds_path = os.getcwd()+'/gene_signatures/all_signature_list_ensembl.Rds'\n",
    "# readRDS = robjects.r['readRDS']\n",
    "# df = readRDS(rds_path)\n",
    "# df = pandas2ri.ri2py(df)\n"
   ]
  },
  {
   "cell_type": "code",
   "execution_count": 70,
   "id": "b933aa27-96fa-4e2d-a93c-0047ff3d830f",
   "metadata": {},
   "outputs": [],
   "source": [
    "import os\n",
    "from rpy2.robjects import pandas2ri, conversion\n",
    "import rpy2.robjects as robjects\n",
    "import pandas as pd\n",
    "import numpy as np\n",
    "\n",
    "\n",
    "def getRdsSigs():\n",
    "\n",
    "    # Activate the pandas2ri conversion\n",
    "    pandas2ri.activate()\n",
    "    \n",
    "    # Path to the .rds file\n",
    "    rds_path = os.path.join(os.getcwd(), 'gene_signatures', 'all_signature_list_symbol.Rds')\n",
    "    \n",
    "    # Load the readRDS function from R\n",
    "    readRDS = robjects.r['readRDS']\n",
    "    \n",
    "    # Read the .rds file\n",
    "    r_object = readRDS(rds_path)\n",
    "    \n",
    "    signatures_dict = {}\n",
    "    singatures_groups_list = []\n",
    "    \n",
    "    for i in range(len(r_object)):\n",
    "        signatures_dict[r_object.names[i]] = r_object[i].tolist()\n",
    "        singatures_groups_list.append(r_object.names[i])\n",
    "    \n",
    "    return signatures_dict, singatures_groups_list"
   ]
  },
  {
   "cell_type": "code",
   "execution_count": 74,
   "id": "7067efcc-547e-4132-8b7e-62e90fa66120",
   "metadata": {},
   "outputs": [
    {
     "data": {
      "text/plain": [
       "['CCL18',\n",
       " 'CCL19',\n",
       " 'CCL2',\n",
       " 'CCL21',\n",
       " 'CCL3',\n",
       " 'CCL4',\n",
       " 'CCL5',\n",
       " 'CCL8',\n",
       " 'CXCL10',\n",
       " 'CXCL11',\n",
       " 'CXCL11_2',\n",
       " 'CXCL13',\n",
       " 'CXCL9']"
      ]
     },
     "execution_count": 74,
     "metadata": {},
     "output_type": "execute_result"
    }
   ],
   "source": [
    "signatures_dict[singatures_groups_list[0]]"
   ]
  },
  {
   "cell_type": "code",
   "execution_count": 55,
   "id": "b8e9d05a-908f-4a24-b420-73bc5248f8b9",
   "metadata": {
    "scrolled": true
   },
   "outputs": [
    {
     "name": "stdout",
     "output_type": "stream",
     "text": [
      "['ENSG00000108691', 'ENSG00000108700', 'ENSG00000138755', 'ENSG00000156234', 'ENSG00000169245', 'ENSG00000169248', 'ENSG00000172724', 'ENSG00000271503', 'ENSG00000275302', 'ENSG00000275385', 'ENSG00000277632']\n",
      "Messina_chemokine\n"
     ]
    }
   ],
   "source": [
    "\n",
    "print(r_object[0].tolist())\n",
    "print(r_object.names[0])"
   ]
  },
  {
   "cell_type": "code",
   "execution_count": 64,
   "id": "0cb3fd74-a66a-456f-8e25-3a9b42b7bbc9",
   "metadata": {},
   "outputs": [
    {
     "name": "stdout",
     "output_type": "stream",
     "text": [
      "['CCL18', 'CCL19', 'CCL2', 'CCL21', 'CCL3', 'CCL4', 'CCL5', 'CCL8', 'CXCL10', 'CXCL11', 'CXCL11_2', 'CXCL13', 'CXCL9']\n",
      "Messina_chemokine\n",
      "['BCL6', 'CD86', 'CXCR4', 'LAMP3', 'SELL', 'CCR7', 'CXCL13', 'CCL21', 'CCL19']\n",
      "Cabrita_tls\n",
      "['ANXA2', 'BRAF', 'CD14', 'CD86', 'CTSB', 'CTSS', 'CXCL2', 'FCGR2B', 'FCGR2B', 'HCST', 'HLA-DMA', 'HLA-DMB', 'HLA-DPB1', 'HLA-DRA', 'HLA-G', 'ITGAM', 'LILRB4', 'MARCO', 'MKI67', 'MRC1', 'S100A8', 'S100A9', 'SYK', 'SYK', 'TYROBP']\n",
      "Goff_Cell proliferation\n",
      "['ANXA2', 'BRAF', 'CD14', 'CD86', 'CTSB', 'CTSS', 'CXCL2', 'FCGR2B', 'FCGR2B', 'HCST', 'HLA-DMA', 'HLA-DMB', 'HLA-DPB1', 'HLA-DRA', 'HLA-G', 'ITGAM', 'LILRB4', 'MARCO', 'MKI67', 'MRC1', 'S100A8', 'S100A9', 'SYK', 'SYK', 'TYROBP']\n",
      "Goff_Myeloid inflammatory\n",
      "['ANXA2', 'BRAF', 'CD14', 'CD86', 'CTSB', 'CTSS', 'CXCL2', 'FCGR2B', 'FCGR2B', 'HCST', 'HLA-DMA', 'HLA-DMB', 'HLA-DPB1', 'HLA-DRA', 'HLA-G', 'ITGAM', 'LILRB4', 'MARCO', 'MKI67', 'MRC1', 'S100A8', 'S100A9', 'SYK', 'SYK', 'TYROBP']\n",
      "Goff_Agpresentation\n",
      "['ANXA2', 'BRAF', 'CD14', 'CD86', 'CTSB', 'CTSS', 'CXCL2', 'FCGR2B', 'FCGR2B', 'HCST', 'HLA-DMA', 'HLA-DMB', 'HLA-DPB1', 'HLA-DRA', 'HLA-G', 'ITGAM', 'LILRB4', 'MARCO', 'MKI67', 'MRC1', 'S100A8', 'S100A9', 'SYK', 'SYK', 'TYROBP']\n",
      "Goff_B cells\n",
      "['ANXA2', 'BRAF', 'CD14', 'CD86', 'CTSB', 'CTSS', 'CXCL2', 'FCGR2B', 'FCGR2B', 'HCST', 'HLA-DMA', 'HLA-DMB', 'HLA-DPB1', 'HLA-DRA', 'HLA-G', 'ITGAM', 'LILRB4', 'MARCO', 'MKI67', 'MRC1', 'S100A8', 'S100A9', 'SYK', 'SYK', 'TYROBP']\n",
      "Goff_NK cells\n",
      "['TPSB2', 'TPSAB1', 'CPA3', 'HPGDS', 'CLU', 'LTC4S', 'CD9', 'MS4A2', 'CD69', 'RGS1', 'GATA2', 'LAPTM4A', 'CD63', 'ALOX5AP', 'VWA5A', 'UBB', 'LMNA', 'KIT', 'IL1RL1', 'RPS4X', 'ANXA1', 'SLC18A2']\n",
      "Zhang_hM01_Mast-TPSAB1\n",
      "['SEC61B', 'PLAC8', 'RPS3A', 'SPCS1', 'ALOX5AP', 'RPS4X', 'C12ORF75', 'SERPINF1', 'TCF4', 'PLD4', 'IRF8', 'CCDC50', 'UGCG', 'SPIB', 'ITM2C', 'RPL10A', 'PPIB']\n",
      "Zhang_hM02_pDC-LILRA4\n",
      "['CD74', 'HLA-DPB1', 'HLA-DRA', 'HLA-DQA1', 'HLA-DQB1', 'HLA-DPA1', 'HLA-DRB1']\n",
      "Zhang_hM03_cDC2-CD1C\n",
      "['LSP1', 'ACTG1', 'CD74', 'TMSB4X', 'HLA-DQA1', 'PPA1', 'RGS1', 'GSTP1', 'HLA-DPB1', 'BIRC3']\n",
      "Zhang_hM04_cDC1-BATF3\n",
      "['S100A9', 'S100A8', 'S100A12', 'LYZ', 'VCAN', 'MNDA']\n",
      "Zhang_hM05_Mono-CD14\n",
      "['LST1', 'FCGR3A', 'RPS19', 'IFITM3', 'IFITM2', 'AIF1', 'MS4A7']\n",
      "Zhang_hM06_Mono-CD16\n",
      "['IL1B', 'SRGN', 'EREG', 'SOD2', 'PLAUR', 'G0S2', 'TNFAIP3', 'CXCL8', 'CXCL2', 'NFKBIA', 'IER3', 'BCL2A1']\n",
      "Zhang_hM08_Macro-NLRP3\n",
      "['CXCL2', 'CXCL8', 'CCL3', 'IL1B', 'CCL4', 'IER3', 'CREM', 'NFKBIA', 'CCL3L3', 'EREG', 'TNFAIP3', 'SOD2', 'ATF3', 'GPR183']\n",
      "Zhang_hM09_Macro-PLTP\n",
      "['C1QA', 'IL1B', 'HLA-DRA', 'C1QB', 'C1QC', 'HLA-DPB1', 'HLA-DQA1', 'HLA-DQA2', 'CCL3L3', 'CCL3', 'HLA-DRB1', 'GPR183', 'HLA-DPA1', 'IER3', 'NFKBIA', 'CXCL2', 'HLA-DQB1', 'TNFAIP3', 'CD74']\n",
      "Zhang_hM10_Macro-IL1B\n",
      "['C1QC', 'C1QB', 'C1QA', 'RGS1', 'LGMN', 'APOC1', 'APOE', 'HLA-DQA1', 'CD74', 'GPR183', 'HLA-DRA', 'GPNMB', 'ATF3', 'HLA-DQB1', 'HLA-DQA2', 'CCL3']\n",
      "Zhang_hM12_TAM-C1QC\n",
      "['SPP1', 'C15ORF48', 'CXCL8', 'OLR1', 'CCL3', 'G0S2', 'CXCL2', 'APOC1', 'GPNMB']\n",
      "Zhang_hM13_TAM-SPP1\n",
      "['CD274', 'PDCD1LG2', 'LGALS9', 'ADORA2A', 'ADORA2B', 'ARG1', 'ICOSL', 'CD80']\n",
      "Davidson_suppressive\n",
      "['CD86', 'OX-40L', '4-1BBL', 'PVR', 'IL1N', 'ALCAM', 'TNF']\n",
      "Davidson_costimulatory\n",
      "['FCRL5', 'CD300LF', 'CCR1', 'PTPN22', 'CD9', 'CSF2RB', 'S100A6', 'PLAC8', 'CCND2', 'C130026I21RIK', 'ZBTB20', 'RILPL2', 'APOE', 'SP140', 'SLC7A7', 'RPLP0', 'PDIA4', 'CCDC28B', 'MZB1']\n",
      "Yang_Bcells\n",
      "['GZMA', 'PRF1']\n",
      "Rooney_cytolytic\n",
      "['CD3D', 'IDO1', 'CIITA', 'CD3E', 'CCL5', 'GZMK', 'CD2', 'HLA-DRA', 'CXCL13', 'IL2RG', 'NKG7', 'HLA-E', 'EXCR6', 'LAG3', 'TAGAP', 'CXCL10', 'STAT1', 'GZMB']\n",
      "Ayers_IFNg\n",
      "['ITGAX', 'TBX21', 'CD1C', 'FGR', 'FCRL5', 'TFEC', 'ZEB2', 'ZBTB32', 'CD86', 'AICDA', 'EBI3', 'CXCR3', 'SIGLEC6', 'TLR7', 'PRDM1', 'CXCR5', 'CR2', 'TRAF5']\n",
      "DN2_Bcells\n"
     ]
    }
   ],
   "source": []
  },
  {
   "cell_type": "code",
   "execution_count": 8,
   "id": "f5cc4837-d24a-45ad-bf89-3badd57c16c7",
   "metadata": {},
   "outputs": [
    {
     "data": {
      "text/plain": [
       "'/tmp/work/Visium/sean/gene_signatures/all_signature_list_ensembl.Rds'"
      ]
     },
     "execution_count": 8,
     "metadata": {},
     "output_type": "execute_result"
    }
   ],
   "source": [
    "rds_path"
   ]
  },
  {
   "cell_type": "code",
   "execution_count": 10,
   "id": "f9fb4ce7-ee1d-45eb-9e43-57eaad3b835e",
   "metadata": {},
   "outputs": [
    {
     "name": "stdout",
     "output_type": "stream",
     "text": [
      "/tmp/work/Visium/sean\n"
     ]
    }
   ],
   "source": [
    "! pwd"
   ]
  },
  {
   "cell_type": "code",
   "execution_count": 11,
   "id": "2a69ed2b-6968-4ca7-abfd-8a750702a37a",
   "metadata": {},
   "outputs": [
    {
     "name": "stdout",
     "output_type": "stream",
     "text": [
      "/opt/conda/lib/R/bin/exec/R: /opt/conda/lib/R/bin/exec/../../lib/../.././libtinfo.so.6: no version information available (required by /opt/conda/lib/R/bin/exec/../../lib/../../libreadline.so.8)\n",
      "R version 4.3.1 (2023-06-16) -- \"Beagle Scouts\"\n",
      "Copyright (C) 2023 The R Foundation for Statistical Computing\n",
      "Platform: x86_64-conda-linux-gnu (64-bit)\n",
      "\n",
      "R is free software and comes with ABSOLUTELY NO WARRANTY.\n",
      "You are welcome to redistribute it under the terms of the\n",
      "GNU General Public License versions 2 or 3.\n",
      "For more information about these matters see\n",
      "https://www.gnu.org/licenses/.\n",
      "\n"
     ]
    }
   ],
   "source": [
    "! R --version"
   ]
  },
  {
   "cell_type": "code",
   "execution_count": 12,
   "id": "d32adf4e-c0e6-4ee4-b147-9d157f105372",
   "metadata": {},
   "outputs": [
    {
     "name": "stdout",
     "output_type": "stream",
     "text": [
      "3.5.11\n"
     ]
    }
   ],
   "source": [
    "import rpy2\n",
    "print(rpy2.__version__)"
   ]
  },
  {
   "cell_type": "code",
   "execution_count": 13,
   "id": "8aee93f4-ed09-4d93-aa48-214c557d124d",
   "metadata": {},
   "outputs": [],
   "source": [
    "import os\n",
    "from rpy2.robjects import pandas2ri, r"
   ]
  },
  {
   "cell_type": "code",
   "execution_count": 17,
   "id": "eee9933c-6fe4-4278-8b8d-2f8c88099b6f",
   "metadata": {},
   "outputs": [
    {
     "name": "stdout",
     "output_type": "stream",
     "text": [
      "<class 'rpy2.robjects.vectors.ListVector'>\n",
      "List of 24\n",
      " $ Messina_chemokine        : chr [1:11] \"ENSG00000108691\" \"ENSG00000108700\" \"ENSG00000138755\" \"ENSG00000156234\" ...\n",
      " $ Cabrita_tls              : chr [1:7] \"ENSG00000078081\" \"ENSG00000113916\" \"ENSG00000114013\" \"ENSG00000121966\" ...\n",
      " $ Goff_Cell proliferation  : chr [1:4] \"ENSG00000182718\" \"ENSG00000157764\" \"ENSG00000170458\" \"ENSG00000114013\"\n",
      " $ Goff_Myeloid inflammatory: chr [1:3] \"ENSG00000164733\" \"ENSG00000163131\" \"ENSG00000081041\"\n",
      " $ Goff_Agpresentation      : chr [1:12] \"ENSG00000072694\" \"ENSG00000072694\" \"ENSG00000126264\" \"ENSG00000204257\" ...\n",
      " $ Goff_B cells             : chr [1:3] \"ENSG00000260314\" \"ENSG00000143546\" \"ENSG00000163220\"\n",
      " $ Goff_NK cells            : chr [1:4] \"ENSG00000165025\" \"ENSG00000165025\" \"ENSG00000011600\" NA\n",
      " $ Zhang_hM01_Mast-TPSAB1   : chr [1:16] \"ENSG00000010278\" \"ENSG00000068697\" \"ENSG00000090104\" \"ENSG00000110002\" ...\n",
      " $ Zhang_hM02_pDC-LILRA4    : chr [1:16] \"ENSG00000106803\" \"ENSG00000114902\" \"ENSG00000132386\" \"ENSG00000132965\" ...\n",
      " $ Zhang_hM03_cDC2-CD1C     : chr [1:7] \"ENSG00000019582\" \"ENSG00000179344\" \"ENSG00000196126\" \"ENSG00000196735\" ...\n",
      " $ Zhang_hM04_cDC1-BATF3    : chr [1:10] \"ENSG00000019582\" \"ENSG00000023445\" \"ENSG00000084207\" \"ENSG00000090104\" ...\n",
      " $ Zhang_hM05_Mono-CD14     : chr [1:5] \"ENSG00000038427\" \"ENSG00000090382\" \"ENSG00000143546\" \"ENSG00000163220\" ...\n",
      " $ Zhang_hM06_Mono-CD16     : chr [1:7] \"ENSG00000105372\" \"ENSG00000142089\" \"ENSG00000166927\" \"ENSG00000185201\" ...\n",
      " $ Zhang_hM08_Macro-NLRP3   : chr [1:10] \"ENSG00000011422\" \"ENSG00000081041\" \"ENSG00000100906\" \"ENSG00000112096\" ...\n",
      " $ Zhang_hM09_Macro-PLTP    : chr [1:12] \"ENSG00000081041\" \"ENSG00000095794\" \"ENSG00000100906\" \"ENSG00000112096\" ...\n",
      " $ Zhang_hM10_Macro-IL1B    : chr [1:18] \"ENSG00000019582\" \"ENSG00000081041\" \"ENSG00000100906\" \"ENSG00000118503\" ...\n",
      " $ Zhang_hM12_TAM-C1QC      : chr [1:16] \"ENSG00000019582\" \"ENSG00000090104\" \"ENSG00000100600\" \"ENSG00000130203\" ...\n",
      " $ Zhang_hM13_TAM-SPP1      : chr [1:7] \"ENSG00000081041\" \"ENSG00000118785\" \"ENSG00000130208\" \"ENSG00000136235\" ...\n",
      " $ Davidson_suppressive     : chr [1:6] \"ENSG00000120217\" \"ENSG00000121594\" \"ENSG00000128271\" \"ENSG00000168961\" ...\n",
      " $ Davidson_costimulatory   : chr [1:4] \"ENSG00000073008\" \"ENSG00000114013\" \"ENSG00000170017\" \"ENSG00000232810\"\n",
      " $ Yang_Bcells              : chr [1:17] \"ENSG00000010278\" \"ENSG00000079263\" \"ENSG00000089157\" \"ENSG00000100368\" ...\n",
      " $ Rooney_cytolytic         : chr [1:2] \"ENSG00000145649\" \"ENSG00000180644\"\n",
      " $ Ayers_IFNg               : chr [1:17] \"ENSG00000089692\" \"ENSG00000100453\" \"ENSG00000105374\" \"ENSG00000113088\" ...\n",
      " $ DN2_Bcells               : chr [1:11] \"ENSG00000000938\" \"ENSG00000057657\" \"ENSG00000082512\" \"ENSG00000105967\" ...\n"
     ]
    },
    {
     "data": {
      "text/plain": [
       "<rpy2.rinterface_lib.sexp.NULLType object at 0x7f740258eb80> [RTYPES.NILSXP]"
      ]
     },
     "execution_count": 17,
     "metadata": {},
     "output_type": "execute_result"
    }
   ],
   "source": [
    "rds_path = os.path.join(os.getcwd(), 'gene_signatures', 'all_signature_list_ensembl.Rds')\n",
    "readRDS = r['readRDS']\n",
    "r_object = readRDS(rds_path)\n",
    "print(type(r_object))\n",
    "r['str'](r_object)\n"
   ]
  },
  {
   "cell_type": "code",
   "execution_count": 22,
   "id": "7078f689-6dd9-498d-9a91-c703d752668f",
   "metadata": {},
   "outputs": [
    {
     "ename": "NameError",
     "evalue": "name 'localconverter' is not defined",
     "output_type": "error",
     "traceback": [
      "\u001b[0;31m---------------------------------------------------------------------------\u001b[0m",
      "\u001b[0;31mNameError\u001b[0m                                 Traceback (most recent call last)",
      "Cell \u001b[0;32mIn[22], line 1\u001b[0m\n\u001b[0;32m----> 1\u001b[0m \u001b[38;5;28;01mwith\u001b[39;00m \u001b[43mlocalconverter\u001b[49m(ro\u001b[38;5;241m.\u001b[39mdefault_converter \u001b[38;5;241m+\u001b[39m pandas2ri\u001b[38;5;241m.\u001b[39mconverter):\n\u001b[1;32m      2\u001b[0m   pandas_dataframe \u001b[38;5;241m=\u001b[39m ro\u001b[38;5;241m.\u001b[39mconversion\u001b[38;5;241m.\u001b[39mrpy2py(r_object)\n\u001b[1;32m      4\u001b[0m pandas_dataframe \u001b[38;5;66;03m# this is your pandas dataframe now\u001b[39;00m\n",
      "\u001b[0;31mNameError\u001b[0m: name 'localconverter' is not defined"
     ]
    }
   ],
   "source": [
    "with localconverter(ro.default_converter + pandas2ri.converter):\n",
    "  pandas_dataframe = ro.conversion.rpy2py(r_object)\n",
    "\n",
    "pandas_dataframe # this is your pandas dataframe now"
   ]
  },
  {
   "cell_type": "code",
   "execution_count": 27,
   "id": "13071862-ee3a-4045-b426-e52f595325fe",
   "metadata": {},
   "outputs": [],
   "source": [
    "import rpy2.robjects as ro\n",
    "\n",
    "with (ro.default_converter + pandas2ri.converter).context():\n",
    "  test = ro.conversion.get_conversion().rpy2py(r_object)"
   ]
  },
  {
   "cell_type": "code",
   "execution_count": 1,
   "id": "0be52e90-a85f-4b81-a74d-a9055bcbf692",
   "metadata": {},
   "outputs": [
    {
     "ename": "ModuleNotFoundError",
     "evalue": "No module named 'getRSigs'",
     "output_type": "error",
     "traceback": [
      "\u001b[0;31m---------------------------------------------------------------------------\u001b[0m",
      "\u001b[0;31mModuleNotFoundError\u001b[0m                       Traceback (most recent call last)",
      "Cell \u001b[0;32mIn[1], line 1\u001b[0m\n\u001b[0;32m----> 1\u001b[0m \u001b[38;5;28;01mfrom\u001b[39;00m \u001b[38;5;21;01mgetRSigs\u001b[39;00m \u001b[38;5;28;01mimport\u001b[39;00m getRdsSigs\n",
      "\u001b[0;31mModuleNotFoundError\u001b[0m: No module named 'getRSigs'"
     ]
    }
   ],
   "source": [
    "import os\n",
    "import sys\n",
    "\n",
    "\n",
    "\n",
    "from getRSigs import getRdsSigs"
   ]
  },
  {
   "cell_type": "code",
   "execution_count": 6,
   "id": "66d8e15d-0801-4dbd-aaeb-370ed479c724",
   "metadata": {},
   "outputs": [
    {
     "data": {
      "text/plain": [
       "['Messina_chemokine',\n",
       " 'Cabrita_tls',\n",
       " 'Goff_Cell proliferation',\n",
       " 'Goff_Myeloid inflammatory',\n",
       " 'Goff_Agpresentation',\n",
       " 'Goff_B cells',\n",
       " 'Goff_NK cells',\n",
       " 'Zhang_hM01_Mast-TPSAB1',\n",
       " 'Zhang_hM02_pDC-LILRA4',\n",
       " 'Zhang_hM03_cDC2-CD1C',\n",
       " 'Zhang_hM04_cDC1-BATF3',\n",
       " 'Zhang_hM05_Mono-CD14',\n",
       " 'Zhang_hM06_Mono-CD16',\n",
       " 'Zhang_hM08_Macro-NLRP3',\n",
       " 'Zhang_hM09_Macro-PLTP',\n",
       " 'Zhang_hM10_Macro-IL1B',\n",
       " 'Zhang_hM12_TAM-C1QC',\n",
       " 'Zhang_hM13_TAM-SPP1',\n",
       " 'Davidson_suppressive',\n",
       " 'Davidson_costimulatory',\n",
       " 'Yang_Bcells',\n",
       " 'Rooney_cytolytic',\n",
       " 'Ayers_IFNg',\n",
       " 'DN2_Bcells']"
      ]
     },
     "execution_count": 6,
     "metadata": {},
     "output_type": "execute_result"
    }
   ],
   "source": [
    "import os\n",
    "import sys\n",
    "\n",
    "os.getcwd()\n",
    "sys.path.append( os.path.join(os.getcwd(), 'brca_scripts'))\n",
    "\n",
    "from getRSigs import getRSigs\n",
    "\n",
    "signatures_dict, singatures_groups_list = getRSigs()\n",
    "\n",
    "singatures_groups_list"
   ]
  },
  {
   "cell_type": "code",
   "execution_count": 3,
   "id": "95fffae6-e7af-4078-8eb9-3d613b056f7b",
   "metadata": {},
   "outputs": [
    {
     "data": {
      "text/plain": [
       "'/tmp/work/Visium/sean'"
      ]
     },
     "execution_count": 3,
     "metadata": {},
     "output_type": "execute_result"
    }
   ],
   "source": []
  },
  {
   "cell_type": "code",
   "execution_count": null,
   "id": "ec7861b8-f0df-45e0-9468-cc0e0e3b9d07",
   "metadata": {},
   "outputs": [],
   "source": [
    "Visium/sean/brca_scripts"
   ]
  }
 ],
 "metadata": {
  "kernelspec": {
   "display_name": "Python 3 (ipykernel)",
   "language": "python",
   "name": "python3"
  },
  "language_info": {
   "codemirror_mode": {
    "name": "ipython",
    "version": 3
   },
   "file_extension": ".py",
   "mimetype": "text/x-python",
   "name": "python",
   "nbconvert_exporter": "python",
   "pygments_lexer": "ipython3",
   "version": "3.10.10"
  }
 },
 "nbformat": 4,
 "nbformat_minor": 5
}
