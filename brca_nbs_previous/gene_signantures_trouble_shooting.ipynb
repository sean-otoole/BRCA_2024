{
 "cells": [
  {
   "cell_type": "code",
   "execution_count": 1,
   "id": "c187e177-3a22-4591-9738-2ae2062d1daa",
   "metadata": {},
   "outputs": [
    {
     "name": "stderr",
     "output_type": "stream",
     "text": [
      "/opt/conda/lib/python3.10/site-packages/pandas/core/computation/expressions.py:21: UserWarning: Pandas requires version '2.8.4' or newer of 'numexpr' (version '2.8.3' currently installed).\n",
      "  from pandas.core.computation.check import NUMEXPR_INSTALLED\n"
     ]
    }
   ],
   "source": [
    "import os\n",
    "from rpy2.robjects import pandas2ri, conversion\n",
    "import rpy2.robjects as robjects\n",
    "import pandas as pd\n",
    "import numpy as np\n"
   ]
  },
  {
   "cell_type": "code",
   "execution_count": 2,
   "id": "d3e611bb-5292-4565-8c1a-da55beea711e",
   "metadata": {},
   "outputs": [],
   "source": [
    "\n",
    "    pandas2ri.activate()\n",
    "    \n",
    "    # Path to the .rds file\n",
    "    rds_path = '/tmp/work/Visium/BRCA_2024/gene_signatures/all_signature_list_ensembl.Rds'\n",
    "    \n",
    "    # Load the readRDS function from R\n",
    "    readRDS = robjects.r['readRDS']\n",
    "    \n",
    "    # Read the .rds file\n",
    "    r_object = readRDS(rds_path)\n",
    "    \n",
    "    signatures_dict = {}\n",
    "    singatures_groups_list = []\n",
    "    \n",
    "    for i in range(len(r_object)):\n",
    "        signatures_dict[r_object.names[i]] = r_object[i].tolist()\n",
    "        singatures_groups_list.append(r_object.names[i])\n"
   ]
  },
  {
   "cell_type": "code",
   "execution_count": 3,
   "id": "f2270ef5-17e4-4d56-b021-6b23fa1a6ccb",
   "metadata": {},
   "outputs": [
    {
     "name": "stdout",
     "output_type": "stream",
     "text": [
      "False\n",
      "False\n",
      "False\n",
      "False\n"
     ]
    }
   ],
   "source": [
    "print(signatures_dict['Goff_Cell proliferation'] == signatures_dict['Goff_Myeloid inflammatory'])\n",
    "print(signatures_dict['Goff_Cell proliferation'] == signatures_dict['Goff_Agpresentation'])\n",
    "print(signatures_dict['Goff_Cell proliferation'] == signatures_dict['Goff_B cells'])\n",
    "print(signatures_dict['Goff_Cell proliferation'] == signatures_dict['Goff_NK cells'])"
   ]
  },
  {
   "cell_type": "code",
   "execution_count": 5,
   "id": "7a1a0d4a-b69b-4d4f-b354-f721c7e777a9",
   "metadata": {},
   "outputs": [
    {
     "name": "stdout",
     "output_type": "stream",
     "text": [
      "CCL2\n",
      "CCL8\n",
      "CXCL9\n",
      "CXCL13\n",
      "CXCL10\n",
      "CXCL11\n",
      "CCL19\n"
     ]
    },
    {
     "ename": "KeyboardInterrupt",
     "evalue": "",
     "output_type": "error",
     "traceback": [
      "\u001b[0;31m---------------------------------------------------------------------------\u001b[0m",
      "\u001b[0;31mKeyboardInterrupt\u001b[0m                         Traceback (most recent call last)",
      "Cell \u001b[0;32mIn[5], line 7\u001b[0m\n\u001b[1;32m      5\u001b[0m ensembl_ids \u001b[38;5;241m=\u001b[39m signatures_dict[key]\n\u001b[1;32m      6\u001b[0m \u001b[38;5;28;01mfor\u001b[39;00m ensembl_id \u001b[38;5;129;01min\u001b[39;00m ensembl_ids:\n\u001b[0;32m----> 7\u001b[0m     results \u001b[38;5;241m=\u001b[39m \u001b[43mmg\u001b[49m\u001b[38;5;241;43m.\u001b[39;49m\u001b[43mquerymany\u001b[49m\u001b[43m(\u001b[49m\u001b[43mensembl_id\u001b[49m\u001b[43m,\u001b[49m\u001b[43m \u001b[49m\u001b[43mscopes\u001b[49m\u001b[38;5;241;43m=\u001b[39;49m\u001b[38;5;124;43m'\u001b[39;49m\u001b[38;5;124;43mensembl.gene\u001b[39;49m\u001b[38;5;124;43m'\u001b[39;49m\u001b[43m,\u001b[49m\u001b[43m \u001b[49m\u001b[43mfields\u001b[49m\u001b[38;5;241;43m=\u001b[39;49m\u001b[38;5;124;43m'\u001b[39;49m\u001b[38;5;124;43msymbol\u001b[39;49m\u001b[38;5;124;43m'\u001b[39;49m\u001b[43m,\u001b[49m\u001b[43m \u001b[49m\u001b[43mspecies\u001b[49m\u001b[38;5;241;43m=\u001b[39;49m\u001b[38;5;124;43m'\u001b[39;49m\u001b[38;5;124;43mhuman\u001b[39;49m\u001b[38;5;124;43m'\u001b[39;49m\u001b[43m)\u001b[49m\n\u001b[1;32m      8\u001b[0m     gene_symbol \u001b[38;5;241m=\u001b[39m results[\u001b[38;5;241m0\u001b[39m]\u001b[38;5;241m.\u001b[39mget(\u001b[38;5;124m'\u001b[39m\u001b[38;5;124msymbol\u001b[39m\u001b[38;5;124m'\u001b[39m)\n\u001b[1;32m      9\u001b[0m     \u001b[38;5;28mprint\u001b[39m(gene_symbol)\n",
      "File \u001b[0;32m/opt/conda/lib/python3.10/site-packages/biothings_client/base.py:575\u001b[0m, in \u001b[0;36mBiothingClient._querymany\u001b[0;34m(self, qterms, scopes, **kwargs)\u001b[0m\n\u001b[1;32m    572\u001b[0m \u001b[38;5;28;01mdef\u001b[39;00m \u001b[38;5;21mquery_fn\u001b[39m(qterms):\n\u001b[1;32m    573\u001b[0m     \u001b[38;5;28;01mreturn\u001b[39;00m \u001b[38;5;28mself\u001b[39m\u001b[38;5;241m.\u001b[39m_querymany_inner(qterms, verbose\u001b[38;5;241m=\u001b[39mverbose, \u001b[38;5;241m*\u001b[39m\u001b[38;5;241m*\u001b[39mkwargs)\n\u001b[0;32m--> 575\u001b[0m \u001b[38;5;28;01mfor\u001b[39;00m hits \u001b[38;5;129;01min\u001b[39;00m \u001b[38;5;28mself\u001b[39m\u001b[38;5;241m.\u001b[39m_repeated_query(query_fn, qterms, verbose\u001b[38;5;241m=\u001b[39mverbose):\n\u001b[1;32m    576\u001b[0m     \u001b[38;5;28;01mif\u001b[39;00m return_raw:\n\u001b[1;32m    577\u001b[0m         out\u001b[38;5;241m.\u001b[39mappend(hits)  \u001b[38;5;66;03m# hits is the raw response text\u001b[39;00m\n",
      "File \u001b[0;32m/opt/conda/lib/python3.10/site-packages/biothings_client/base.py:262\u001b[0m, in \u001b[0;36mBiothingClient._repeated_query\u001b[0;34m(self, query_fn, query_li, verbose, **fn_kwargs)\u001b[0m\n\u001b[1;32m    259\u001b[0m     logger\u001b[38;5;241m.\u001b[39minfo(\u001b[38;5;124m\"\u001b[39m\u001b[38;5;124mdone.\u001b[39m\u001b[38;5;132;01m{0}\u001b[39;00m\u001b[38;5;124m\"\u001b[39m\u001b[38;5;241m.\u001b[39mformat(cache_str))\n\u001b[1;32m    260\u001b[0m \u001b[38;5;28;01mif\u001b[39;00m \u001b[38;5;129;01mnot\u001b[39;00m from_cache \u001b[38;5;129;01mand\u001b[39;00m \u001b[38;5;28mself\u001b[39m\u001b[38;5;241m.\u001b[39mdelay:\n\u001b[1;32m    261\u001b[0m     \u001b[38;5;66;03m# no need to delay if requests are from cache.\u001b[39;00m\n\u001b[0;32m--> 262\u001b[0m     \u001b[43mtime\u001b[49m\u001b[38;5;241;43m.\u001b[39;49m\u001b[43msleep\u001b[49m\u001b[43m(\u001b[49m\u001b[38;5;28;43mself\u001b[39;49m\u001b[38;5;241;43m.\u001b[39;49m\u001b[43mdelay\u001b[49m\u001b[43m)\u001b[49m\n",
      "\u001b[0;31mKeyboardInterrupt\u001b[0m: "
     ]
    }
   ],
   "source": [
    "import mygene\n",
    "mg = mygene.MyGeneInfo()\n",
    "\n",
    "symbols_dict_from_ensembl = {}\n",
    "\n",
    "for key in signatures_dict:\n",
    "    ensembl_ids = signatures_dict[key]\n",
    "    symbol_list = []\n",
    "    for ensembl_id in ensembl_ids:\n",
    "        results = mg.querymany(ensembl_id, scopes='ensembl.gene', fields='symbol', species='human')\n",
    "        gene_symbol = results[0].get('symbol')\n",
    "        symbol_list.append(gene_symbol)\n",
    "    symbols_dict_from_ensembl[key] = symbol_list\n",
    "        "
   ]
  },
  {
   "cell_type": "code",
   "execution_count": 33,
   "id": "64cd3bbd-99ec-42c8-be56-60d91fb4462f",
   "metadata": {},
   "outputs": [],
   "source": [
    "import mygene\n",
    "mg = mygene.MyGeneInfo()\n",
    "\n",
    "for ensembl_id in \n",
    "ensembl_id = ['ENSG00000139618']  # List of Ensembl IDs you want to convert\n"
   ]
  },
  {
   "cell_type": "code",
   "execution_count": 22,
   "id": "7dffa7ba-24ba-47f8-b8c4-6ff7ffb0bb9e",
   "metadata": {},
   "outputs": [],
   "source": [
    " mg.query(gene, scopes=\"symbol\", fields=[\"ensembl\"], species=\"human\", verbose=False)"
   ]
  },
  {
   "cell_type": "code",
   "execution_count": 41,
   "id": "fc3d7e79-8c21-449e-ab10-755aabbfa22e",
   "metadata": {},
   "outputs": [
    {
     "name": "stderr",
     "output_type": "stream",
     "text": [
      "1 input query terms found dup hits:\t[('ENSG00000072694', 2)]\n",
      "1 input query terms found dup hits:\t[('ENSG00000165025', 2)]\n",
      "1 input query terms found no hit:\t['None']\n",
      "1 input query terms found no hit:\t['ENSG00000112096']\n",
      "1 input query terms found no hit:\t['ENSG00000112096']\n"
     ]
    }
   ],
   "source": [
    "    # Activate the pandas2ri conversion\n",
    "    pandas2ri.activate()\n",
    "    \n",
    "    # Path to the .rds file\n",
    "    rds_path = os.path.join(os.getcwd(), 'all_signature_list_ensembl.Rds')\n",
    "    \n",
    "    # Load the readRDS function from R\n",
    "    readRDS = robjects.r['readRDS']\n",
    "    \n",
    "    # Read the .rds file\n",
    "    r_object = readRDS(rds_path)\n",
    "    \n",
    "    signatures_dict = {}\n",
    "    singatures_groups_list = []\n",
    "    \n",
    "    for i in range(len(r_object)):\n",
    "        signatures_dict[r_object.names[i]] = r_object[i].tolist()\n",
    "        singatures_groups_list.append(r_object.names[i])\n",
    "\n",
    "    mg = mygene.MyGeneInfo()\n",
    "    \n",
    "    symbols_dict_from_ensembl = {}\n",
    "    \n",
    "    for key in signatures_dict:\n",
    "        ensembl_ids = signatures_dict[key]\n",
    "        symbol_list = []\n",
    "        results = mg.querymany(ensembl_ids, scopes='ensembl.gene', fields='symbol', species='human')\n",
    "        symbols = [item.get('symbol', 'No Symbol') for item in results]\n",
    "        symbols_dict_from_ensembl[key] = symbols\n",
    "        \n",
    "    \n",
    "    # return symbols_dict_from_ensembl, singatures_groups_list"
   ]
  },
  {
   "cell_type": "code",
   "execution_count": 44,
   "id": "346c7f4b-3bec-4ac1-a5a6-988cdb189dc6",
   "metadata": {},
   "outputs": [
    {
     "data": {
      "text/plain": [
       "{'Messina_chemokine': ['CCL2',\n",
       "  'CCL8',\n",
       "  'CXCL9',\n",
       "  'CXCL13',\n",
       "  'CXCL10',\n",
       "  'CXCL11',\n",
       "  'CCL19',\n",
       "  'CCL5',\n",
       "  'CCL4',\n",
       "  'CCL18',\n",
       "  'CCL3'],\n",
       " 'Cabrita_tls': ['LAMP3', 'BCL6', 'CD86', 'CXCR4', 'CXCL13', 'CCL19', 'SELL'],\n",
       " 'Goff_Cell proliferation': ['ANXA2', 'BRAF', 'CD14', 'CD86'],\n",
       " 'Goff_Myeloid inflammatory': ['CTSB', 'CTSS', 'CXCL2'],\n",
       " 'Goff_Agpresentation': ['FCGR2B',\n",
       "  'FCGR2B',\n",
       "  'HCST',\n",
       "  'HLA-DMA',\n",
       "  'HLA-DMB',\n",
       "  'HLA-DPB1',\n",
       "  'HLA-DRA',\n",
       "  'HLA-G',\n",
       "  'ITGAM',\n",
       "  'LILRB4',\n",
       "  'MARCO',\n",
       "  'MKI67'],\n",
       " 'Goff_B cells': ['MRC1', 'S100A8', 'S100A9'],\n",
       " 'Goff_NK cells': ['SYK', 'SYK', 'TYROBP', 'No Symbol'],\n",
       " 'Zhang_hM01_Mast-TPSAB1': ['CD9',\n",
       "  'LAPTM4A',\n",
       "  'RGS1',\n",
       "  'VWA5A',\n",
       "  'CD69',\n",
       "  'CLU',\n",
       "  'ALOX5AP',\n",
       "  'ANXA1',\n",
       "  'CD63',\n",
       "  'KIT',\n",
       "  'LMNA',\n",
       "  'CPA3',\n",
       "  'SLC18A2',\n",
       "  'UBB',\n",
       "  'TPSAB1',\n",
       "  'RPS4X'],\n",
       " 'Zhang_hM02_pDC-LILRA4': ['SEC61B',\n",
       "  'SPCS1',\n",
       "  'SERPINF1',\n",
       "  'ALOX5AP',\n",
       "  'ITM2C',\n",
       "  'IRF8',\n",
       "  'PLAC8',\n",
       "  'RPS3A',\n",
       "  'UGCG',\n",
       "  'CCDC50',\n",
       "  'PLD4',\n",
       "  'PPIB',\n",
       "  'TCF4',\n",
       "  'RPS4X',\n",
       "  'RPL10A',\n",
       "  'SPIB'],\n",
       " 'Zhang_hM03_cDC2-CD1C': ['CD74',\n",
       "  'HLA-DQB1',\n",
       "  'HLA-DRB1',\n",
       "  'HLA-DQA1',\n",
       "  'HLA-DRA',\n",
       "  'HLA-DPB1',\n",
       "  'HLA-DPA1'],\n",
       " 'Zhang_hM04_cDC1-BATF3': ['CD74',\n",
       "  'BIRC3',\n",
       "  'GSTP1',\n",
       "  'RGS1',\n",
       "  'LSP1',\n",
       "  'PPA1',\n",
       "  'ACTG1',\n",
       "  'HLA-DQA1',\n",
       "  'TMSB4X',\n",
       "  'HLA-DPB1'],\n",
       " 'Zhang_hM05_Mono-CD14': ['VCAN', 'LYZ', 'S100A8', 'S100A9', 'MNDA'],\n",
       " 'Zhang_hM06_Mono-CD16': ['RPS19',\n",
       "  'IFITM3',\n",
       "  'MS4A7',\n",
       "  'IFITM2',\n",
       "  'FCGR3A',\n",
       "  'AIF1',\n",
       "  'LST1'],\n",
       " 'Zhang_hM08_Macro-NLRP3': ['PLAUR',\n",
       "  'CXCL2',\n",
       "  'NFKBIA',\n",
       "  'No Symbol',\n",
       "  'TNFAIP3',\n",
       "  'SRGN',\n",
       "  'IL1B',\n",
       "  'IER3',\n",
       "  'BCL2A1',\n",
       "  'CXCL8'],\n",
       " 'Zhang_hM09_Macro-PLTP': ['CXCL2',\n",
       "  'CREM',\n",
       "  'NFKBIA',\n",
       "  'No Symbol',\n",
       "  'TNFAIP3',\n",
       "  'IL1B',\n",
       "  'IER3',\n",
       "  'ATF3',\n",
       "  'CXCL8',\n",
       "  'GPR183',\n",
       "  'CCL4',\n",
       "  'CCL3'],\n",
       " 'Zhang_hM10_Macro-IL1B': ['CD74',\n",
       "  'CXCL2',\n",
       "  'NFKBIA',\n",
       "  'TNFAIP3',\n",
       "  'IL1B',\n",
       "  'IER3',\n",
       "  'C1QC',\n",
       "  'GPR183',\n",
       "  'C1QB',\n",
       "  'C1QA',\n",
       "  'HLA-DQB1',\n",
       "  'HLA-DRB1',\n",
       "  'HLA-DQA1',\n",
       "  'HLA-DRA',\n",
       "  'HLA-DPB1',\n",
       "  'HLA-DPA1',\n",
       "  'HLA-DQA2',\n",
       "  'CCL3'],\n",
       " 'Zhang_hM12_TAM-C1QC': ['CD74',\n",
       "  'RGS1',\n",
       "  'LGMN',\n",
       "  'APOE',\n",
       "  'APOC1',\n",
       "  'GPNMB',\n",
       "  'C1QC',\n",
       "  'ATF3',\n",
       "  'GPR183',\n",
       "  'C1QB',\n",
       "  'C1QA',\n",
       "  'HLA-DQB1',\n",
       "  'HLA-DQA1',\n",
       "  'HLA-DRA',\n",
       "  'HLA-DQA2',\n",
       "  'CCL3'],\n",
       " 'Zhang_hM13_TAM-SPP1': ['CXCL2',\n",
       "  'SPP1',\n",
       "  'APOC1',\n",
       "  'GPNMB',\n",
       "  'CXCL8',\n",
       "  'OLR1',\n",
       "  'CCL3'],\n",
       " 'Davidson_suppressive': ['CD274',\n",
       "  'CD80',\n",
       "  'ADORA2A',\n",
       "  'LGALS9',\n",
       "  'ADORA2B',\n",
       "  'PDCD1LG2'],\n",
       " 'Davidson_costimulatory': ['PVR', 'CD86', 'ALCAM', 'TNF'],\n",
       " 'Yang_Bcells': ['CD9',\n",
       "  'SP140',\n",
       "  'RPLP0',\n",
       "  'CSF2RB',\n",
       "  'CCND2',\n",
       "  'APOE',\n",
       "  'PTPN22',\n",
       "  'FCRL5',\n",
       "  'PLAC8',\n",
       "  'RILPL2',\n",
       "  'SLC7A7',\n",
       "  'PDIA4',\n",
       "  'CCDC28B',\n",
       "  'CCR1',\n",
       "  'ZBTB20',\n",
       "  'CD300LF',\n",
       "  'S100A6'],\n",
       " 'Rooney_cytolytic': ['GZMA', 'PRF1'],\n",
       " 'Ayers_IFNg': ['LAG3',\n",
       "  'GZMB',\n",
       "  'NKG7',\n",
       "  'GZMK',\n",
       "  'STAT1',\n",
       "  'CD2',\n",
       "  'IDO1',\n",
       "  'IL2RG',\n",
       "  'CXCL13',\n",
       "  'TAGAP',\n",
       "  'CD3D',\n",
       "  'CXCL10',\n",
       "  'CIITA',\n",
       "  'CD3E',\n",
       "  'HLA-DRA',\n",
       "  'HLA-E',\n",
       "  'CCL5'],\n",
       " 'DN2_Bcells': ['FGR',\n",
       "  'PRDM1',\n",
       "  'TRAF5',\n",
       "  'TFEC',\n",
       "  'CD86',\n",
       "  'CR2',\n",
       "  'ITGAX',\n",
       "  'FCRL5',\n",
       "  'CD1C',\n",
       "  'ZEB2',\n",
       "  'TLR7']}"
      ]
     },
     "execution_count": 44,
     "metadata": {},
     "output_type": "execute_result"
    }
   ],
   "source": [
    "symbols_dict_from_ensembl"
   ]
  },
  {
   "cell_type": "code",
   "execution_count": 15,
   "id": "f008445b-39b6-4513-9271-fbc90cf8a33d",
   "metadata": {},
   "outputs": [
    {
     "data": {
      "text/plain": [
       "['ENSG00000000938',\n",
       " 'ENSG00000057657',\n",
       " 'ENSG00000082512',\n",
       " 'ENSG00000105967',\n",
       " 'ENSG00000114013',\n",
       " 'ENSG00000117322',\n",
       " 'ENSG00000140678',\n",
       " 'ENSG00000143297',\n",
       " 'ENSG00000158481',\n",
       " 'ENSG00000169554',\n",
       " 'ENSG00000196664']"
      ]
     },
     "execution_count": 15,
     "metadata": {},
     "output_type": "execute_result"
    }
   ],
   "source": [
    "ensembl_ids"
   ]
  },
  {
   "cell_type": "code",
   "execution_count": 30,
   "id": "9b3ed9d2-e8de-4f87-8a80-9ff1bdf6a358",
   "metadata": {},
   "outputs": [
    {
     "ename": "TypeError",
     "evalue": "list indices must be integers or slices, not str",
     "output_type": "error",
     "traceback": [
      "\u001b[0;31m---------------------------------------------------------------------------\u001b[0m",
      "\u001b[0;31mTypeError\u001b[0m                                 Traceback (most recent call last)",
      "Cell \u001b[0;32mIn[30], line 1\u001b[0m\n\u001b[0;32m----> 1\u001b[0m \u001b[43mresults\u001b[49m\u001b[43m[\u001b[49m\u001b[38;5;124;43m'\u001b[39;49m\u001b[38;5;124;43mitem\u001b[39;49m\u001b[38;5;124;43m'\u001b[39;49m\u001b[43m]\u001b[49m\n",
      "\u001b[0;31mTypeError\u001b[0m: list indices must be integers or slices, not str"
     ]
    }
   ],
   "source": [
    "results['item']"
   ]
  },
  {
   "cell_type": "code",
   "execution_count": 31,
   "id": "d7b75389-11e8-47ba-8e00-743f4bb95e30",
   "metadata": {},
   "outputs": [
    {
     "data": {
      "text/plain": [
       "['FGR',\n",
       " 'PRDM1',\n",
       " 'TRAF5',\n",
       " 'TFEC',\n",
       " 'CD86',\n",
       " 'CR2',\n",
       " 'ITGAX',\n",
       " 'FCRL5',\n",
       " 'CD1C',\n",
       " 'ZEB2',\n",
       " 'TLR7']"
      ]
     },
     "execution_count": 31,
     "metadata": {},
     "output_type": "execute_result"
    }
   ],
   "source": [
    "symbols = [item['symbol'] for item in results]\n",
    "symbols"
   ]
  },
  {
   "cell_type": "code",
   "execution_count": 45,
   "id": "1e222e88-159a-406b-9ad2-9dec9edee954",
   "metadata": {},
   "outputs": [],
   "source": [
    "# Query for gene symbols using mygene.info\n",
    "results = mg.querymany(ensembl_ids, scopes='ensembl.gene', fields='symbol', species='human')\n",
    "\n",
    "# Extract symbols, using a default value if 'symbol' key is missing\n",
    "symbols = [item.get('symbol', 'No Symbol') for item in results]\n",
    "\n",
    "# Store the symbols in the dictionary\n",
    "symbols_dict_from_ensembl[key] = symbols"
   ]
  },
  {
   "cell_type": "code",
   "execution_count": null,
   "id": "9dff40d8-f52e-4b96-b61c-698a4e842f17",
   "metadata": {},
   "outputs": [],
   "source": []
  }
 ],
 "metadata": {
  "kernelspec": {
   "display_name": "Python 3 (ipykernel)",
   "language": "python",
   "name": "python3"
  },
  "language_info": {
   "codemirror_mode": {
    "name": "ipython",
    "version": 3
   },
   "file_extension": ".py",
   "mimetype": "text/x-python",
   "name": "python",
   "nbconvert_exporter": "python",
   "pygments_lexer": "ipython3",
   "version": "3.10.10"
  }
 },
 "nbformat": 4,
 "nbformat_minor": 5
}
